{
 "cells": [
  {
   "cell_type": "markdown",
   "id": "bdbe2d25",
   "metadata": {},
   "source": [
    "# "
   ]
  },
  {
   "cell_type": "markdown",
   "id": "6da8ad01",
   "metadata": {},
   "source": [
    "# Parte 02 - Prevendo a Retenção de Clientes com Dados Anônimos"
   ]
  },
  {
   "cell_type": "markdown",
   "id": "32bb9add",
   "metadata": {},
   "source": [
    "## Modelagem\n"
   ]
  },
  {
   "cell_type": "markdown",
   "id": "a8133bd1",
   "metadata": {},
   "source": [
    "# 1.0 Instalando e Carregando Pacotes"
   ]
  },
  {
   "cell_type": "code",
   "execution_count": 1,
   "id": "de1eee47",
   "metadata": {},
   "outputs": [
    {
     "name": "stdout",
     "output_type": "stream",
     "text": [
      "✅ Biblioteca 'sklearn' já está instalada.\n",
      "✅ Biblioteca 'scipy' já está instalada.\n",
      "✅ Biblioteca 'pandas' já está instalada.\n",
      "✅ Biblioteca 'numpy' já está instalada.\n",
      "✅ Biblioteca 'matplotlib' já está instalada.\n",
      "✅ Biblioteca 'seaborn' já está instalada.\n",
      "✅ Biblioteca 'pickle' já está instalada.\n"
     ]
    }
   ],
   "source": [
    "import importlib    # Importa o módulo 'importlib', que permite importar bibliotecas dinamicamente em tempo de execução\n",
    "import subprocess   # Importa o módulo 'subprocess' para executar comandos externos, como instalar pacotes via pip\n",
    "import sys          # Importa o módulo 'sys' para acessar o interpretador Python atual e seu executável\n",
    "\n",
    "\n",
    "# Dicionário contendo os pacotes que devem ser verificados e instalados, se necessário.\n",
    "# A chave é o nome usado para importar o módulo, e o valor é o nome usado no pip para instalação.\n",
    "required_packages = {\n",
    "    'sklearn': 'scikit-learn',     # sklearn é importado como módulo, mas instalado com o nome scikit-learn\n",
    "    'scipy': 'scipy',              # scipy é tanto o nome de importação quanto de instalação\n",
    "    'pandas': 'pandas',            # pandas para análise de dados tabulares\n",
    "    'numpy': 'numpy',              # numpy para operações numéricas\n",
    "    'matplotlib': 'matplotlib',    # matplotlib para visualizações\n",
    "    'seaborn': 'seaborn',          # seaborn para gráficos estatísticos\n",
    "    'pickle': 'pickle'             # Importa a biblioteca pickle, usada para serialização e desserialização de objetos Python\n",
    "}\n",
    "\n",
    "# Função responsável por verificar se o pacote está instalado.\n",
    "# Caso não esteja, ela o instala automaticamente usando pip.\n",
    "def check_and_install(package_name, install_name):\n",
    "    try:\n",
    "        # Tenta importar o pacote. Se for bem-sucedido, ele já está instalado.\n",
    "        importlib.import_module(package_name)\n",
    "        print(f\"✅ Biblioteca '{package_name}' já está instalada.\")\n",
    "    except ImportError:\n",
    "        # Caso a importação falhe, significa que a biblioteca não está instalada.\n",
    "        # O código abaixo usa o subprocess para executar o comando: python -m pip install <nome_do_pacote>\n",
    "        print(f\"⚠️ Biblioteca '{package_name}' não encontrada. Instalando '{install_name}'...\")\n",
    "        subprocess.check_call([sys.executable, \"-m\", \"pip\", \"install\", install_name])\n",
    "        print(f\"✅ Biblioteca '{install_name}' instalada com sucesso.\")\n",
    "\n",
    "# Loop que percorre cada item do dicionário de pacotes.\n",
    "# Para cada pacote, chama a função de verificação e instalação, se necessário.\n",
    "for package, install_name in required_packages.items():\n",
    "    check_and_install(package, install_name)"
   ]
  },
  {
   "cell_type": "code",
   "execution_count": 2,
   "id": "3ebe79cc",
   "metadata": {},
   "outputs": [],
   "source": [
    "import pickle                                                                                       # Importa o módulo pickle para serialização e desserialização de objetos\n",
    "import pandas as pd                                                                                 # Importa o pandas para manipulação de dados\n",
    "import numpy as np                                                                                  # Importa o numpy para operações numéricas\n",
    "import seaborn as sns                                                                               # Importa o seaborn para visualização de dados\n",
    "import matplotlib.pyplot as plt                                                                     # Importa o matplotlib.pyplot para criação de gráficos\n",
    "import xgboost as xgb                                                                               # Importa o xgboost para algoritmos de gradient boosting\n",
    "import sklearn                                                                                      # Importa o scikit-learn para machine learning\n",
    "from sklearn.preprocessing import StandardScaler                                                    # Importa StandardScaler para padronização de dados\n",
    "from sklearn.linear_model import LogisticRegression                                                 # Importa LogisticRegression para regressão logística\n",
    "from sklearn.naive_bayes import GaussianNB                                                          # Importa GaussianNB para o algoritmo Naive Bayes Gaussiano\n",
    "from xgboost import XGBClassifier                                                                   # Importa XGBClassifier para classificação usando XGBoost\n",
    "from sklearn.ensemble import RandomForestClassifier                                                 # Importa RandomForestClassifier para classificação usando Random Forest\n",
    "from sklearn.metrics import roc_auc_score, accuracy_score, precision_score, recall_score, roc_curve # Importa métricas de avaliação de modelos\n",
    "import warnings                                                                                     # Importa o módulo warnings para gerenciar alertas\n",
    "warnings.filterwarnings('ignore')  \n",
    "\n",
    "warnings.filterwarnings('ignore')"
   ]
  },
  {
   "cell_type": "code",
   "execution_count": 3,
   "id": "05731977",
   "metadata": {},
   "outputs": [
    {
     "name": "stdout",
     "output_type": "stream",
     "text": [
      "Author: Ricardo de Souza Silva\n",
      "\n"
     ]
    }
   ],
   "source": [
    "%reload_ext watermark\n",
    "%watermark -a \"Ricardo de Souza Silva\" "
   ]
  },
  {
   "cell_type": "markdown",
   "id": "c321f7a3",
   "metadata": {},
   "source": [
    "# 2.0 Carregando os Dados"
   ]
  },
  {
   "cell_type": "code",
   "execution_count": 4,
   "id": "93b7db9d",
   "metadata": {},
   "outputs": [],
   "source": [
    "# Carrega o arquivo CSV 'dataset_treino.csv' localizado na pasta 'dados'\n",
    "# O conteúdo do arquivo é lido e armazenado no DataFrame chamado 'dataset_treino'\n",
    "dataset_treino = pd.read_csv(\"dados/dataset_treino.csv\")\n",
    "\n",
    "# Carrega o arquivo CSV 'dataset_teste.csv' da mesma forma\n",
    "# O conteúdo é armazenado no DataFrame 'dataset_teste'\n",
    "dataset_teste = pd.read_csv(\"dados/dataset_teste.csv\")\n",
    "\n",
    "# Carrega o arquivo CSV 'dataset_validacao.csv' localizado na pasta 'dados'\n",
    "# O conteúdo é lido e armazenado no DataFrame 'dataset_validacao'\n",
    "dataset_validacao = pd.read_csv(\"dados/dataset_validacao.csv\")\n",
    "\n",
    "# Carrega o arquivo CSV 'dataset_final_treino.csv'\n",
    "# Corrigido o nome do arquivo, pois anteriormente estava escrito incorretamente como 'datset_final_treino'\n",
    "# O conteúdo é armazenado no DataFrame 'dados_final_treino'\n",
    "dados_final_treino = pd.read_csv(\"dados/dataset_final_treino.csv\")"
   ]
  },
  {
   "cell_type": "code",
   "execution_count": 5,
   "id": "67c9d704",
   "metadata": {},
   "outputs": [],
   "source": [
    "# Abre o arquivo 'colunas_entrada.sav' que está localizado na pasta 'dados'\n",
    "# O modo \"rb\" significa \"read binary\" (leitura em modo binário), necessário para arquivos serializados com pickle\n",
    "with open('dados/colunas_entrada.sav', \"rb\") as file:\n",
    "    \n",
    "    # Utiliza a função pickle.load() para desserializar o conteúdo do arquivo\n",
    "    # O conteúdo original (possivelmente uma lista com os nomes das colunas de entrada) é carregado na variável 'colunas_entrada'\n",
    "    colunas_entrada = pickle.load(file)"
   ]
  },
  {
   "cell_type": "markdown",
   "id": "37a43368",
   "metadata": {},
   "source": [
    "# 3.0 Preparando as Matrizes"
   ]
  },
  {
   "cell_type": "markdown",
   "id": "9e4e8937",
   "metadata": {},
   "source": [
    "## 3.1 Preparando os dados X"
   ]
  },
  {
   "cell_type": "code",
   "execution_count": 6,
   "id": "f11b5087",
   "metadata": {},
   "outputs": [],
   "source": [
    "# Seleciona do DataFrame 'dados_final_treino' apenas as colunas especificadas na lista 'colunas_entrada'\n",
    "# Em seguida, extrai apenas os valores (array NumPy) dessas colunas para treinar o modelo\n",
    "dados_treino_x = dados_final_treino[colunas_entrada].values\n",
    "\n",
    "# Faz o mesmo processo com o conjunto de validação: seleciona as colunas de entrada e extrai os valores\n",
    "# Isso prepara os dados para serem usados na validação do modelo\n",
    "dados_validacao_x = dataset_validacao[colunas_entrada].values\n",
    "\n",
    "# Aplica o mesmo procedimento ao conjunto de teste: seleciona as colunas de entrada e extrai os valores\n",
    "# OBS: havia um erro de digitação na palavra 'values' (estava escrito 'vallues')\n",
    "dados_teste_x = dataset_teste[colunas_entrada].values\n"
   ]
  },
  {
   "cell_type": "markdown",
   "id": "65ea39a2",
   "metadata": {},
   "source": [
    "## 3.2 Preparando os dados Y"
   ]
  },
  {
   "cell_type": "code",
   "execution_count": 7,
   "id": "28763b63",
   "metadata": {},
   "outputs": [],
   "source": [
    "# Seleciona a coluna 'LABEL_TARGET' do DataFrame 'dados_final_treino'\n",
    "# Essa coluna representa a variável alvo (target) para o modelo de machine learning\n",
    "# Em seguida, extrai apenas os valores (array NumPy) dessa coluna\n",
    "dados_treino_y = dados_final_treino['LABEL_TARGET'].values\n",
    "\n",
    "# Repete o mesmo processo para o conjunto de validação\n",
    "# Obtém os valores da variável alvo a partir do DataFrame 'dataset_validacao'\n",
    "dados_validacao_y = dataset_validacao['LABEL_TARGET'].values\n",
    "\n",
    "# E por fim, repete o procedimento para o conjunto de teste\n",
    "# Extraindo os valores da variável alvo do DataFrame 'dataset_teste'\n",
    "dados_teste_y = dataset_teste['LABEL_TARGET'].values\n"
   ]
  },
  {
   "cell_type": "code",
   "execution_count": 8,
   "id": "6bd9c497",
   "metadata": {},
   "outputs": [
    {
     "name": "stdout",
     "output_type": "stream",
     "text": [
      "Shape dos dados de treino: (3204, 178) (3204,)\n",
      "Shape dos dados de validação: (1725, 178) (1725,)\n",
      "Shape dos dados de teste: (1725, 178) (1725,)\n"
     ]
    }
   ],
   "source": [
    "# Imprime o formato (shape) dos dados de treino\n",
    "# 'dados_treino_x.shape' mostra o número de linhas (amostras) e colunas (variáveis de entrada)\n",
    "# 'dados_treino_y.shape' mostra a quantidade de rótulos (targets), que deve ter o mesmo número de linhas que 'dados_treino_x'\n",
    "print('Shape dos dados de treino:', dados_treino_x.shape, dados_treino_y.shape)      \n",
    "\n",
    "# Imprime o formato dos dados de validação\n",
    "# Serve para verificar se as dimensões das entradas e dos rótulos estão corretas e compatíveis\n",
    "print('Shape dos dados de validação:', dados_validacao_x.shape, dados_validacao_y.shape)     \n",
    "\n",
    "# Imprime o formato dos dados de teste\n",
    "# Essa verificação é importante para garantir que os dados estão corretamente estruturados antes de treinar e avaliar o modelo\n",
    "print('Shape dos dados de teste:', dados_teste_x.shape, dados_teste_y.shape)"
   ]
  },
  {
   "cell_type": "markdown",
   "id": "91ab79ac",
   "metadata": {},
   "source": [
    "# 4.0 Padronização dos Dados"
   ]
  },
  {
   "cell_type": "code",
   "execution_count": 9,
   "id": "e28b3abd",
   "metadata": {},
   "outputs": [],
   "source": [
    "# Cria um objeto da classe StandardScaler para realizar a padronização dos dados\n",
    "# A padronização transforma os dados para que tenham média 0 e desvio padrão 1\n",
    "padronizacao = StandardScaler()\n",
    "\n",
    "# Ajusta o scaler (calculando média e desvio padrão) com base apenas nos dados de treino\n",
    "# É importante usar apenas os dados de treino para evitar vazamento de informação (data leakage)\n",
    "padronizacao.fit(dados_treino_x)\n",
    "\n",
    "# Define o caminho onde o objeto padronizador será salvo\n",
    "arquivo_padroniozado = 'dados/padronizador.sav'\n",
    "\n",
    "# Salva o objeto padronizador em disco utilizando pickle no modo binário de escrita ('wb')\n",
    "# Isso permite reutilizar a mesma padronização em outros momentos, como produção ou teste\n",
    "pickle.dump(padronizacao, open(arquivo_padroniozado, 'wb'))\n",
    "\n",
    "# Carrega o objeto padronizador salvo anteriormente a partir do arquivo\n",
    "# Isso garante que a mesma transformação seja aplicada aos dados de validação e teste\n",
    "padronizacao = pickle.load(open(arquivo_padroniozado, 'rb'))\n",
    "\n",
    "# Aplica a padronização nos dados de treino\n",
    "# Cada valor será transformado com base na média e desvio padrão aprendidos durante o fit\n",
    "dados_treino_x_padronizados = padronizacao.transform(dados_treino_x)\n",
    "\n",
    "# Aplica a padronização nos dados de validação\n",
    "# Corrigido erro de digitação: 'trasnform' → 'transform'\n",
    "dados_validacao_x_padronizados = padronizacao.transform(dados_validacao_x)"
   ]
  },
  {
   "cell_type": "code",
   "execution_count": 10,
   "id": "660df575",
   "metadata": {},
   "outputs": [
    {
     "data": {
      "text/plain": [
       "array([[-0.41435084, -0.27979018, -0.13937869, ...,  1.05134599,\n",
       "         1.08344249,  1.09495505],\n",
       "       [ 0.22837261,  0.23491744,  0.19573262, ...,  0.05382072,\n",
       "         0.06136262,  0.07841567],\n",
       "       [-0.06637954, -0.13978971, -0.22734541, ..., -0.55690904,\n",
       "        -0.54537006, -0.53557412],\n",
       "       ...,\n",
       "       [ 0.33481089,  0.3337413 ,  0.32139936, ...,  0.95362923,\n",
       "         0.97756967,  0.87538255],\n",
       "       [ 0.67459463, -0.56390878, -1.45887948, ...,  1.16942041,\n",
       "         1.6820311 ,  1.9041204 ],\n",
       "       [ 0.29796687,  0.35021195,  0.35909938, ..., -0.01132379,\n",
       "        -0.11373473, -0.1736861 ]])"
      ]
     },
     "execution_count": 10,
     "metadata": {},
     "output_type": "execute_result"
    }
   ],
   "source": [
    "dados_treino_x_padronizados"
   ]
  },
  {
   "cell_type": "code",
   "execution_count": 11,
   "id": "bee34282",
   "metadata": {},
   "outputs": [
    {
     "data": {
      "text/plain": [
       "array([[-0.11141112, -0.09037777, -0.05141197, ..., -0.31668867,\n",
       "        -0.1218788 ,  0.0662172 ],\n",
       "       [ 0.51903099,  0.47785944,  0.19992151, ...,  0.00496234,\n",
       "        -0.01600598,  0.02148946],\n",
       "       [ 0.02368362, -0.01625988, -0.06816754, ...,  0.47318849,\n",
       "         0.42377341,  0.38744364],\n",
       "       ...,\n",
       "       [-0.00906662,  0.06197568,  0.19573262, ..., -0.21897191,\n",
       "        -0.2521838 , -0.28753851],\n",
       "       [ 0.03596496,  0.03726972,  0.00304361, ...,  0.31847028,\n",
       "         0.27310825,  0.2004004 ],\n",
       "       [ 0.10555922,  0.12785826,  0.1538437 , ..., -0.07239676,\n",
       "        -0.04043817, -0.02323827]])"
      ]
     },
     "execution_count": 11,
     "metadata": {},
     "output_type": "execute_result"
    }
   ],
   "source": [
    "dados_validacao_x_padronizados"
   ]
  },
  {
   "cell_type": "markdown",
   "id": "b9e1214f",
   "metadata": {},
   "source": [
    "# 5.0 Modelagem Preditiva"
   ]
  },
  {
   "cell_type": "markdown",
   "id": "d62f2738",
   "metadata": {},
   "source": [
    "## 5.1 Funções Auxiliares"
   ]
  },
  {
   "cell_type": "code",
   "execution_count": 12,
   "id": "439ff3df",
   "metadata": {},
   "outputs": [],
   "source": [
    "# Define uma função para calcular a especificidade de um modelo de classificação\n",
    "# A especificidade mede a proporção de verdadeiros negativos entre todos os negativos reais\n",
    "def calculo_de_especificidade(y_atual, y_preditivo, separador):\n",
    "    \n",
    "    # Conta quantas previsões foram verdadeiros negativos (preditivo < separador e valor real == 0)\n",
    "    verdadeiros_negativos = sum((y_preditivo < separador) & (y_atual == 0))\n",
    "\n",
    "    # Conta o total de casos negativos reais\n",
    "    negativos_reais = sum(y_atual == 0)\n",
    "\n",
    "    # Retorna a razão entre verdadeiros negativos e negativos reais, que é a definição de especificidade\n",
    "    return verdadeiros_negativos / negativos_reais\n"
   ]
  },
  {
   "cell_type": "markdown",
   "id": "ba543651",
   "metadata": {},
   "source": [
    "---\n",
    "\n",
    "A especificidade é uma métrica usada para avaliar o desempenho de um modelo de classificação, especialmente em problemas de classificação binária.\n",
    "\n",
    "Ela mede a proporção de verdadeiros negativos (TN) em relação ao total de negativos reais, ou seja, a capacidade do modelo de identificar corretamente as instâncias negativas.\n",
    "\n",
    "---"
   ]
  },
  {
   "cell_type": "code",
   "execution_count": 13,
   "id": "605adc39",
   "metadata": {},
   "outputs": [],
   "source": [
    "def relatorio_metricas(y_atual, y_preditivo, separador):\n",
    "    \n",
    "    # Calcula a métrica AUC (Área sob a Curva ROC), que mede a capacidade do modelo de separar as classes\n",
    "    auc = roc_auc_score(y_atual, y_preditivo)                               \n",
    "    # Calcula a acurácia: proporção de previsões corretas (True Positive + True Negative) sobre o total\n",
    "    accuracy = accuracy_score(y_atual, (y_preditivo > separador))              \n",
    "    # Calcula o recall (sensibilidade): proporção de positivos reais corretamente identificados\n",
    "    recall = recall_score(y_atual, (y_preditivo > separador))                 \n",
    "    # Calcula a precisão: proporção de positivos preditos que realmente são positivos\n",
    "    precision = precision_score(y_atual, (y_preditivo > separador))           \n",
    "    # Calcula a especificidade: proporção de negativos reais corretamente identificados \n",
    "    # (usando função personalizada externa chamada 'calculo_de_especificidade')\n",
    "    specificity = calculo_de_especificidade(y_atual, y_preditivo, separador)  \n",
    "\n",
    "    # Exibe a métrica AUC com três casas decimais\n",
    "    print('AUC:%.3f' % auc)                     \n",
    "    # Exibe a acurácia com três casas decimais\n",
    "    print('Acurácia:%.3f' % accuracy)           \n",
    "    # Exibe o recall com três casas decimais\n",
    "    print('Recall:%.3f' % recall)               \n",
    "    # Exibe a precisão com três casas decimais\n",
    "    print('Precisão:%.3f' % precision)          \n",
    "    # Exibe a especificidade com três casas decimais\n",
    "    print('Especificidade:%.3f' % specificity)  \n",
    "    # Imprime uma linha em branco para separar a saída\n",
    "    print(' ')                                  \n",
    "    # Retorna as métricas calculadas como uma tupla, podendo ser armazenadas ou usadas posteriormente\n",
    "    return auc, accuracy, recall, precision, specificity  \n",
    "\n",
    "# Define o valor de corte (threshold) para classificar os resultados como positivo ou negativo\n",
    "separador = 0.5"
   ]
  },
  {
   "cell_type": "markdown",
   "id": "3d55432c",
   "metadata": {},
   "source": [
    "# 6.0 Modelos - Definindo o Melhor Modelo"
   ]
  },
  {
   "cell_type": "markdown",
   "id": "7543b7fc",
   "metadata": {},
   "source": [
    "## 6.1 Modelo 01 - Regressão Logística Sem Otimização de Hiperparâmetros"
   ]
  },
  {
   "cell_type": "code",
   "execution_count": 14,
   "id": "b4456f85",
   "metadata": {},
   "outputs": [
    {
     "name": "stdout",
     "output_type": "stream",
     "text": [
      "Modelo de Regressão Logística (Sem Otimização de Hiperparâmetros)\n",
      "\n",
      "Treinamento:\n",
      "\n",
      "AUC:0.631\n",
      "Acurácia:0.673\n",
      "Recall:0.535\n",
      "Precisão:0.739\n",
      "Especificidade:0.811\n",
      " \n",
      "AUC:0.505\n",
      "Acurácia:0.717\n",
      "Recall:0.413\n",
      "Precisão:0.344\n",
      "Especificidade:0.795\n",
      " \n"
     ]
    }
   ],
   "source": [
    "# Instancia o modelo de Regressão Logística com os parâmetros padrão\n",
    "regressao_logistica = LogisticRegression()\n",
    "\n",
    "# Treina o modelo de regressão logística utilizando os dados de treino já padronizados\n",
    "modelo_regressao_01 = regressao_logistica.fit(dados_treino_x_padronizados, dados_treino_y)\n",
    "\n",
    "# Gera as probabilidades preditas para a classe positiva (1) no conjunto de treino\n",
    "predicao_treino_y = modelo_regressao_01.predict_proba(dados_treino_x_padronizados)[:,1]\n",
    "\n",
    "# Gera as probabilidades preditas para a classe positiva (1) no conjunto de validação\n",
    "predicao_validacao_y = modelo_regressao_01.predict_proba(dados_validacao_x_padronizados)[:,1]\n",
    "\n",
    "# Imprime o cabeçalho informando que se trata do modelo sem otimização de hiperparâmetros\n",
    "print('Modelo de Regressão Logística (Sem Otimização de Hiperparâmetros)\\n')\n",
    "\n",
    "# Informa que as métricas a seguir são referentes ao conjunto de treino\n",
    "print('Treinamento:\\n')\n",
    "\n",
    "# Chama a função que calcula e imprime as métricas de desempenho para o conjunto de treino\n",
    "# As métricas retornadas são armazenadas em variáveis específicas\n",
    "regressao_logistica_treino_auc, regressao_logistica__treino_accuracy, regressao_logistica__treino_recall, regressao_logistica__treino_precision, regressao_logistica__treinos_pecificity = relatorio_metricas(\n",
    "    dados_treino_y,              # Valores reais do conjunto de treino\n",
    "    predicao_treino_y,           # Probabilidades previstas para o conjunto de treino\n",
    "    separador                    # Valor do threshold (limiar) de classificação\n",
    ")\n",
    "\n",
    "# Chama a função que calcula e imprime as métricas de desempenho para o conjunto de validação\n",
    "# As métricas retornadas são armazenadas em variáveis específicas\n",
    "regressao_logistica_validacao_auc, regressao_logistica__validacao_accuracy, regressao_logistica__validacao_recall, regressao_logistica__validacao_precision, regressao_logistica__validacao_pecificity = relatorio_metricas(\n",
    "    dados_validacao_y,           # Valores reais do conjunto de validação\n",
    "    predicao_validacao_y,        # Probabilidades previstas para o conjunto de validação\n",
    "    separador                    # Valor do threshold (limiar) de classificação\n",
    ")"
   ]
  },
  {
   "cell_type": "markdown",
   "id": "6d94bfd0",
   "metadata": {},
   "source": [
    "## 6.2 Modelo 02 - Regressão Logística Com Otimização de Hiperparâmetros"
   ]
  },
  {
   "cell_type": "code",
   "execution_count": 15,
   "id": "6c252639",
   "metadata": {},
   "outputs": [
    {
     "name": "stdout",
     "output_type": "stream",
     "text": [
      "Modelo de Regressão Logística (Com Otimização de Hiperparâmetros)\n",
      "\n",
      "Treinamento:\n",
      "\n",
      "AUC:0.634\n",
      "Acurácia:0.675\n",
      "Recall:0.537\n",
      "Precisão:0.742\n",
      "Especificidade:0.813\n",
      " \n",
      "AUC:0.505\n",
      "Acurácia:0.717\n",
      "Recall:0.404\n",
      "Precisão:0.342\n",
      "Especificidade:0.798\n",
      " \n"
     ]
    }
   ],
   "source": [
    "# Criação de um modelo de Regressão Logística com definição de semente (random_state)\n",
    "# e escolha do solver 'liblinear' (bom para conjuntos pequenos e binários)\n",
    "regressao_logistica_2 = LogisticRegression(random_state=142, solver='liblinear')\n",
    "\n",
    "# Treinamento do modelo com os dados padronizados de entrada (X) e os rótulos (y)\n",
    "modelo_regressao_02 = regressao_logistica_2.fit(dados_treino_x_padronizados, dados_treino_y)\n",
    "\n",
    "# Geração das probabilidades preditas para a classe positiva (1) no conjunto de treino\n",
    "predicao_treino_y = modelo_regressao_02.predict_proba(dados_treino_x_padronizados)[:, 1]\n",
    "\n",
    "# Geração das probabilidades preditas para a classe positiva (1) no conjunto de validação\n",
    "predicao_validacao_y = modelo_regressao_02.predict_proba(dados_validacao_x_padronizados)[:, 1]\n",
    "\n",
    "# Impressão do cabeçalho indicando que este modelo teve otimização de hiperparâmetros\n",
    "print('Modelo de Regressão Logística (Com Otimização de Hiperparâmetros)\\n')\n",
    "\n",
    "# Seção de avaliação com métricas no conjunto de treinamento\n",
    "print('Treinamento:\\n')\n",
    "\n",
    "# Chamada da função que calcula as métricas de avaliação no conjunto de treino,\n",
    "# como AUC, acurácia, recall, precisão e especificidade\n",
    "regressao_logistica_treino_auc_2, regressao_logistica__treino_accuracy_2, regressao_logistica__treino_recall_2, regressao_logistica__treino_precision_2, regressao_logistica__treinos_pecificity_2 = relatorio_metricas(\n",
    "    dados_treino_y,               # Valores reais do conjunto de treino\n",
    "    predicao_treino_y,            # Probabilidades previstas pelo modelo\n",
    "    separador                     # Threshold de corte para classificar entre 0 e 1\n",
    ")\n",
    "\n",
    "# Cálculo das métricas de avaliação no conjunto de validação\n",
    "regressao_logistica_validacao_auc_2, regressao_logistica__validacao_accuracy_2, regressao_logistica__validacao_recall_2, regressao_logistica__validacao_precision_2, regressao_logistica__validacao_pecificity_2 = relatorio_metricas(\n",
    "    dados_validacao_y,            # Valores reais do conjunto de validação\n",
    "    predicao_validacao_y,         # Probabilidades previstas no conjunto de validação\n",
    "    separador                     # Threshold para converter probabilidade em classe\n",
    ")"
   ]
  },
  {
   "cell_type": "markdown",
   "id": "d6db2917",
   "metadata": {},
   "source": [
    "## 6.3 Modelo 03 - Naive Bayes"
   ]
  },
  {
   "cell_type": "code",
   "execution_count": 16,
   "id": "0448b860",
   "metadata": {},
   "outputs": [
    {
     "name": "stdout",
     "output_type": "stream",
     "text": [
      "Modelo Naive Bayes\n",
      "\n",
      "Treinamento:\n",
      "\n",
      "AUC:0.984\n",
      "Acurácia:0.934\n",
      "Recall:0.898\n",
      "Precisão:0.968\n",
      "Especificidade:0.971\n",
      " \n",
      "Validação:\n",
      "\n",
      "AUC:0.981\n",
      "Acurácia:0.960\n",
      "Recall:0.919\n",
      "Precisão:0.891\n",
      "Especificidade:0.971\n",
      " \n"
     ]
    }
   ],
   "source": [
    "# Instanciação do modelo Naive Bayes Gaussiano\n",
    "naive_bayes = GaussianNB()\n",
    "\n",
    "# Treinamento do modelo com os dados de treino já padronizados\n",
    "modelo_naive_bayes = naive_bayes.fit(dados_treino_x_padronizados, dados_treino_y)\n",
    "\n",
    "# Geração das probabilidades preditas para a classe positiva (1) no conjunto de treino\n",
    "predicao_treino_y = modelo_naive_bayes.predict_proba(dados_treino_x_padronizados)[:, 1]\n",
    "\n",
    "# Geração das probabilidades preditas para a classe positiva (1) no conjunto de validação\n",
    "predicao_validacao_y = modelo_naive_bayes.predict_proba(dados_validacao_x_padronizados)[:, 1]\n",
    "\n",
    "# Impressão do cabeçalho indicando o modelo utilizado\n",
    "print('Modelo Naive Bayes\\n')\n",
    "print('Treinamento:\\n')\n",
    "\n",
    "# Cálculo das métricas de desempenho no conjunto de treino\n",
    "naive_bayes_train_auc, naive_bayes_train_accuracy, naive_bayes_train_recall, naive_bayes_train_precision, naive_bayes_train_specificity = relatorio_metricas(\n",
    "    dados_treino_y,           # Valores reais das classes no treino\n",
    "    predicao_treino_y,        # Probabilidades previstas (devem ser do modelo Naive Bayes)\n",
    "    separador                 # Threshold para converter probabilidades em classes\n",
    ")\n",
    "\n",
    "# Impressão do cabeçalho da validação\n",
    "print('Validação:\\n')\n",
    "\n",
    "# Cálculo das métricas de desempenho no conjunto de validação\n",
    "naive_bayes_valid_auc, naive_bayes_valid_accuracy, naive_bayes_valid_recall, naive_bayes_valid_precision, naive_bayes_valid_specificity = relatorio_metricas(\n",
    "    dados_validacao_y,        # Valores reais das classes na validação\n",
    "    predicao_validacao_y,     # Probabilidades previstas (devem ser do modelo Naive Bayes)\n",
    "    separador                 # Threshold de decisão\n",
    ")"
   ]
  },
  {
   "cell_type": "markdown",
   "id": "90012116",
   "metadata": {},
   "source": [
    "## 6.4 Modelo 04 - XGBoost (Xtreme Gradient Boosting Classifier)"
   ]
  },
  {
   "cell_type": "code",
   "execution_count": 17,
   "id": "73c7027b",
   "metadata": {},
   "outputs": [
    {
     "name": "stdout",
     "output_type": "stream",
     "text": [
      "Modelo Xtreme Gradient Boosting Classifier:\n",
      "\n",
      "Treinamento:\n",
      "\n",
      "AUC:1.000\n",
      "Acurácia:1.000\n",
      "Recall:1.000\n",
      "Precisão:1.000\n",
      "Especificidade:1.000\n",
      " \n",
      "Validação:\n",
      "\n",
      "AUC:0.994\n",
      "Acurácia:0.961\n",
      "Recall:0.944\n",
      "Precisão:0.877\n",
      "Especificidade:0.966\n",
      " \n"
     ]
    }
   ],
   "source": [
    "# Instancia o classificador XGBoost\n",
    "xgboost = XGBClassifier()\n",
    "\n",
    "# Treina o modelo XGBoost com os dados de treino já padronizados\n",
    "modelo_xgboost = xgboost.fit(dados_treino_x_padronizados, dados_treino_y)\n",
    "\n",
    "# Gera as probabilidades preditas da classe positiva (1) para os dados de treino\n",
    "predicao_treino_y = modelo_xgboost.predict_proba(dados_treino_x_padronizados)[:, 1]\n",
    "\n",
    "# Gera as probabilidades preditas da classe positiva (1) para os dados de validação\n",
    "predicao_validacao_y = modelo_xgboost.predict_proba(dados_validacao_x_padronizados)[:, 1]\n",
    "\n",
    "# Exibe o nome do modelo usado\n",
    "print('Modelo Xtreme Gradient Boosting Classifier:\\n')\n",
    "\n",
    "print('Treinamento:\\n')\n",
    "# Calcula e imprime as métricas de desempenho do modelo nos dados de treino\n",
    "xgboost_train_auc, xgboost_train_accuracy, xgboost_train_recall, xgboost_train_precision, xgboost_train_specificity = relatorio_metricas(\n",
    "    dados_treino_y,           # Rótulos reais do conjunto de treino\n",
    "    predicao_treino_y,        # Probabilidades previstas pelo modelo para o treino\n",
    "    separador                 # Threshold (limiar) para classificar como 0 ou 1\n",
    ")\n",
    "\n",
    "print('Validação:\\n')\n",
    "# Calcula e imprime as métricas de desempenho do modelo nos dados de validação\n",
    "xgboost_valid_auc, xgboost_valid_accuracy, xgboost_valid_recall, xgboost_valid_precision, xgboost_valid_specificity = relatorio_metricas(\n",
    "    dados_validacao_y,        # Rótulos reais do conjunto de validação\n",
    "    predicao_validacao_y,     # Probabilidades previstas pelo modelo para validação\n",
    "    separador                 # Threshold (limiar) de decisão\n",
    ")"
   ]
  },
  {
   "cell_type": "markdown",
   "id": "cc2e9a22",
   "metadata": {},
   "source": [
    "## 6.5 Modelo 05 - RandomForest"
   ]
  },
  {
   "cell_type": "code",
   "execution_count": 18,
   "id": "af8e1289",
   "metadata": {},
   "outputs": [
    {
     "name": "stdout",
     "output_type": "stream",
     "text": [
      "Modelo Random Forest Classifier:\n",
      "\n",
      "Treinamento:\n",
      "\n",
      "AUC:1.000\n",
      "Acurácia:1.000\n",
      "Recall:1.000\n",
      "Precisão:1.000\n",
      "Especificidade:1.000\n",
      " \n",
      "Validação:\n",
      "\n",
      "AUC:0.994\n",
      "Acurácia:0.954\n",
      "Recall:0.980\n",
      "Precisão:0.827\n",
      "Especificidade:0.944\n",
      " \n"
     ]
    }
   ],
   "source": [
    "# Instancia o classificador Random Forest\n",
    "classificador_floresta_aleatoria = RandomForestClassifier()\n",
    "\n",
    "# Treina o modelo Random Forest com os dados de treino já padronizados\n",
    "modelo_floresta_aleatoria = classificador_floresta_aleatoria.fit(dados_treino_x_padronizados, dados_treino_y)\n",
    "\n",
    "# Gera as probabilidades preditas da classe positiva (1) para os dados de treino\n",
    "predicao_treino_y = modelo_floresta_aleatoria.predict_proba(dados_treino_x_padronizados)[:, 1]\n",
    "\n",
    "# Gera as probabilidades preditas da classe positiva (1) para os dados de validação\n",
    "predicao_validacao_y = modelo_floresta_aleatoria.predict_proba(dados_validacao_x_padronizados)[:, 1]\n",
    "\n",
    "# Exibe o nome do modelo usado\n",
    "print('Modelo Random Forest Classifier:\\n')\n",
    "\n",
    "print('Treinamento:\\n')\n",
    "# Calcula e imprime as métricas de desempenho do modelo nos dados de treino\n",
    "classificador_floresta_aleatoria_train_auc, classificador_floresta_aleatoria_train_accuracy, classificador_floresta_aleatoria_train_recall, classificador_floresta_aleatoria_train_precision, classificador_floresta_aleatoria_train_specificity = relatorio_metricas(\n",
    "    dados_treino_y,           # Rótulos reais do conjunto de treino\n",
    "    predicao_treino_y,        # Probabilidades previstas pelo modelo para o treino\n",
    "    separador                 # Threshold (limiar) para classificar como 0 ou 1\n",
    ")\n",
    "\n",
    "print('Validação:\\n')\n",
    "# Calcula e imprime as métricas de desempenho do modelo nos dados de validação\n",
    "classificador_floresta_aleatoria_valid_auc, classificador_floresta_aleatoria_valid_accuracy, classificador_floresta_aleatoria_valid_recall, classificador_floresta_aleatoria_valid_precision, classificador_floresta_aleatoria_valid_specificity = relatorio_metricas(\n",
    "    dados_validacao_y,        # Rótulos reais do conjunto de validação\n",
    "    predicao_validacao_y,     # Probabilidades previstas pelo modelo para validação\n",
    "    separador                 # Threshold (limiar) de decisão\n",
    ")"
   ]
  },
  {
   "cell_type": "markdown",
   "id": "e4cd2377",
   "metadata": {},
   "source": [
    "# 7.0 Seleção de Modelos"
   ]
  },
  {
   "cell_type": "code",
   "execution_count": 19,
   "id": "a9b42f29",
   "metadata": {},
   "outputs": [],
   "source": [
    "# Criando o DataFrame df_results para armazenar métricas de desempenho dos classificadores\n",
    "dados_resultado = pd.DataFrame({\n",
    "\n",
    "    # Nome dos classificadores utilizados (Regressão Logística 1, Regressão Logística 2, Naive Bayes, XGBoost e Random Forest)\n",
    "    'classificador': ['RL1', 'RL1', 'RL2', 'RL2', 'NB', 'NB', 'XGB', 'XGB', 'RFC', 'RFC'],  \n",
    "    \n",
    "    # Define se a linha corresponde aos resultados de treino ou de validação, repetindo para cada modelo\n",
    "    'data_set': ['treino', 'valid'] * 5,  \n",
    "    \n",
    "    # Lista com os valores de AUC (Area Under the Curve) para cada modelo nos conjuntos de treino e validação\n",
    "    'auc': [\n",
    "        regressao_logistica_treino_auc,                    # RL1 - treino\n",
    "        regressao_logistica_validacao_auc,                 # RL1 - validação\n",
    "        regressao_logistica_treino_auc_2,                  # RL2 - treino\n",
    "        regressao_logistica_validacao_auc_2,               # RL2 - validação\n",
    "        naive_bayes_train_auc,                             # Naive Bayes - treino\n",
    "        naive_bayes_valid_auc,                             # Naive Bayes - validação\n",
    "        xgboost_train_auc,                                 # XGBoost - treino\n",
    "        xgboost_valid_auc,                                 # XGBoost - validação\n",
    "        classificador_floresta_aleatoria_train_auc,        # Random Forest - treino\n",
    "        classificador_floresta_aleatoria_valid_auc         # Random Forest - validação\n",
    "    ],\n",
    "    \n",
    "    # Lista com os valores de acurácia para cada modelo nos conjuntos de treino e validação\n",
    "    'accuracy': [\n",
    "        regressao_logistica__treino_accuracy,              # RL1 - treino\n",
    "        regressao_logistica__validacao_accuracy,           # RL1 - validação\n",
    "        regressao_logistica__treino_accuracy_2,            # RL2 - treino\n",
    "        regressao_logistica__validacao_accuracy_2,         # RL2 - validação\n",
    "        naive_bayes_train_accuracy,                        # Naive Bayes - treino\n",
    "        naive_bayes_valid_accuracy,                        # Naive Bayes - validação\n",
    "        xgboost_train_accuracy,                            # XGBoost - treino\n",
    "        xgboost_valid_accuracy,                            # XGBoost - validação\n",
    "        classificador_floresta_aleatoria_train_accuracy,   # Random Forest - treino\n",
    "        classificador_floresta_aleatoria_valid_accuracy    # Random Forest - validação\n",
    "    ],\n",
    "    \n",
    "    # Lista com os valores de recall (sensibilidade) para cada modelo nos conjuntos de treino e validação\n",
    "    'recall': [\n",
    "        regressao_logistica__treino_recall,                # RL1 - treino\n",
    "        regressao_logistica__validacao_recall,             # RL1 - validação\n",
    "        regressao_logistica__treino_recall_2,              # RL2 - treino\n",
    "        regressao_logistica__validacao_recall_2,           # RL2 - validação\n",
    "        naive_bayes_train_recall,                          # Naive Bayes - treino\n",
    "        naive_bayes_valid_recall,                          # Naive Bayes - validação\n",
    "        xgboost_train_recall,                              # XGBoost - treino\n",
    "        xgboost_valid_recall,                              # XGBoost - validação\n",
    "        classificador_floresta_aleatoria_train_recall,     # Random Forest - treino\n",
    "        classificador_floresta_aleatoria_valid_recall      # Random Forest - validação\n",
    "    ],\n",
    "    \n",
    "    # Lista com os valores de precisão (precision) para cada modelo nos conjuntos de treino e validação\n",
    "    'precision': [\n",
    "        regressao_logistica__treino_precision,             # RL1 - treino\n",
    "        regressao_logistica__validacao_precision,          # RL1 - validação\n",
    "        regressao_logistica__treino_precision_2,           # RL2 - treino\n",
    "        regressao_logistica__validacao_precision_2,        # RL2 - validação\n",
    "        naive_bayes_train_precision,                       # Naive Bayes - treino\n",
    "        naive_bayes_valid_precision,                       # Naive Bayes - validação\n",
    "        xgboost_train_precision,                           # XGBoost - treino\n",
    "        xgboost_valid_precision,                           # XGBoost - validação\n",
    "        classificador_floresta_aleatoria_train_precision,  # Random Forest - treino\n",
    "        classificador_floresta_aleatoria_valid_precision   # Random Forest - validação\n",
    "    ],\n",
    "    \n",
    "    # Lista com os valores de especificidade para cada modelo nos conjuntos de treino e validação\n",
    "    'specificity': [\n",
    "        regressao_logistica__treinos_pecificity,           # RL1 - treino\n",
    "        regressao_logistica__validacao_pecificity,         # RL1 - validação\n",
    "        regressao_logistica__treinos_pecificity_2,         # RL2 - treino\n",
    "        regressao_logistica__validacao_pecificity_2,       # RL2 - validação\n",
    "        naive_bayes_train_specificity,                     # Naive Bayes - treino\n",
    "        naive_bayes_valid_specificity,                     # Naive Bayes - validação\n",
    "        xgboost_train_specificity,                         # XGBoost - treino\n",
    "        xgboost_valid_specificity,                         # XGBoost - validação\n",
    "        classificador_floresta_aleatoria_train_specificity,# Random Forest - treino\n",
    "        classificador_floresta_aleatoria_valid_specificity # Random Forest - validação\n",
    "    ]\n",
    "})\n",
    "\n",
    "# O DataFrame df_results agora contém as principais métricas de desempenho para cada classificador,\n",
    "# tanto nos dados de treino quanto nos dados de validação.\n",
    "# Isso permite uma comparação direta entre os modelos em termos de capacidade preditiva e generalização.\n"
   ]
  },
  {
   "cell_type": "code",
   "execution_count": 20,
   "id": "ef5a126a",
   "metadata": {},
   "outputs": [
    {
     "data": {
      "application/vnd.microsoft.datawrangler.viewer.v0+json": {
       "columns": [
        {
         "name": "index",
         "rawType": "int64",
         "type": "integer"
        },
        {
         "name": "classificador",
         "rawType": "object",
         "type": "string"
        },
        {
         "name": "data_set",
         "rawType": "object",
         "type": "string"
        },
        {
         "name": "auc",
         "rawType": "float64",
         "type": "float"
        },
        {
         "name": "accuracy",
         "rawType": "float64",
         "type": "float"
        },
        {
         "name": "recall",
         "rawType": "float64",
         "type": "float"
        },
        {
         "name": "precision",
         "rawType": "float64",
         "type": "float"
        },
        {
         "name": "specificity",
         "rawType": "float64",
         "type": "float"
        }
       ],
       "ref": "4b345466-f112-4544-967e-79f6f055b45c",
       "rows": [
        [
         "0",
         "RL1",
         "treino",
         "0.6314882613961013",
         "0.6732209737827716",
         "0.5349563046192259",
         "0.7394305435720449",
         "0.8114856429463171"
        ],
        [
         "1",
         "RL1",
         "valid",
         "0.5047131097085547",
         "0.7165217391304348",
         "0.41292134831460675",
         "0.3442622950819672",
         "0.7954711468224982"
        ],
        [
         "2",
         "RL2",
         "treino",
         "0.633650041069138",
         "0.6750936329588015",
         "0.5368289637952559",
         "0.7420189818809318",
         "0.813358302122347"
        ],
        [
         "3",
         "RL2",
         "valid",
         "0.5051152731839036",
         "0.7165217391304348",
         "0.4044943820224719",
         "0.342042755344418",
         "0.7976625273922571"
        ],
        [
         "4",
         "NB",
         "treino",
         "0.9835855929152231",
         "0.9344569288389513",
         "0.8982521847690387",
         "0.968371467025572",
         "0.970661672908864"
        ],
        [
         "5",
         "NB",
         "valid",
         "0.9813917318472436",
         "0.96",
         "0.9185393258426966",
         "0.8910081743869209",
         "0.970781592403214"
        ],
        [
         "6",
         "XGB",
         "treino",
         "1.0",
         "1.0",
         "1.0",
         "1.0",
         "1.0"
        ],
        [
         "7",
         "XGB",
         "valid",
         "0.994195303715498",
         "0.9611594202898551",
         "0.9438202247191011",
         "0.8772845953002611",
         "0.9656683710737765"
        ],
        [
         "8",
         "RFC",
         "treino",
         "1.0",
         "1.0",
         "1.0",
         "1.0",
         "1.0"
        ],
        [
         "9",
         "RFC",
         "valid",
         "0.9937808291133526",
         "0.9536231884057971",
         "0.9803370786516854",
         "0.8270142180094787",
         "0.9444850255661067"
        ]
       ],
       "shape": {
        "columns": 7,
        "rows": 10
       }
      },
      "text/html": [
       "<div>\n",
       "<style scoped>\n",
       "    .dataframe tbody tr th:only-of-type {\n",
       "        vertical-align: middle;\n",
       "    }\n",
       "\n",
       "    .dataframe tbody tr th {\n",
       "        vertical-align: top;\n",
       "    }\n",
       "\n",
       "    .dataframe thead th {\n",
       "        text-align: right;\n",
       "    }\n",
       "</style>\n",
       "<table border=\"1\" class=\"dataframe\">\n",
       "  <thead>\n",
       "    <tr style=\"text-align: right;\">\n",
       "      <th></th>\n",
       "      <th>classificador</th>\n",
       "      <th>data_set</th>\n",
       "      <th>auc</th>\n",
       "      <th>accuracy</th>\n",
       "      <th>recall</th>\n",
       "      <th>precision</th>\n",
       "      <th>specificity</th>\n",
       "    </tr>\n",
       "  </thead>\n",
       "  <tbody>\n",
       "    <tr>\n",
       "      <th>0</th>\n",
       "      <td>RL1</td>\n",
       "      <td>treino</td>\n",
       "      <td>0.631488</td>\n",
       "      <td>0.673221</td>\n",
       "      <td>0.534956</td>\n",
       "      <td>0.739431</td>\n",
       "      <td>0.811486</td>\n",
       "    </tr>\n",
       "    <tr>\n",
       "      <th>1</th>\n",
       "      <td>RL1</td>\n",
       "      <td>valid</td>\n",
       "      <td>0.504713</td>\n",
       "      <td>0.716522</td>\n",
       "      <td>0.412921</td>\n",
       "      <td>0.344262</td>\n",
       "      <td>0.795471</td>\n",
       "    </tr>\n",
       "    <tr>\n",
       "      <th>2</th>\n",
       "      <td>RL2</td>\n",
       "      <td>treino</td>\n",
       "      <td>0.633650</td>\n",
       "      <td>0.675094</td>\n",
       "      <td>0.536829</td>\n",
       "      <td>0.742019</td>\n",
       "      <td>0.813358</td>\n",
       "    </tr>\n",
       "    <tr>\n",
       "      <th>3</th>\n",
       "      <td>RL2</td>\n",
       "      <td>valid</td>\n",
       "      <td>0.505115</td>\n",
       "      <td>0.716522</td>\n",
       "      <td>0.404494</td>\n",
       "      <td>0.342043</td>\n",
       "      <td>0.797663</td>\n",
       "    </tr>\n",
       "    <tr>\n",
       "      <th>4</th>\n",
       "      <td>NB</td>\n",
       "      <td>treino</td>\n",
       "      <td>0.983586</td>\n",
       "      <td>0.934457</td>\n",
       "      <td>0.898252</td>\n",
       "      <td>0.968371</td>\n",
       "      <td>0.970662</td>\n",
       "    </tr>\n",
       "    <tr>\n",
       "      <th>5</th>\n",
       "      <td>NB</td>\n",
       "      <td>valid</td>\n",
       "      <td>0.981392</td>\n",
       "      <td>0.960000</td>\n",
       "      <td>0.918539</td>\n",
       "      <td>0.891008</td>\n",
       "      <td>0.970782</td>\n",
       "    </tr>\n",
       "    <tr>\n",
       "      <th>6</th>\n",
       "      <td>XGB</td>\n",
       "      <td>treino</td>\n",
       "      <td>1.000000</td>\n",
       "      <td>1.000000</td>\n",
       "      <td>1.000000</td>\n",
       "      <td>1.000000</td>\n",
       "      <td>1.000000</td>\n",
       "    </tr>\n",
       "    <tr>\n",
       "      <th>7</th>\n",
       "      <td>XGB</td>\n",
       "      <td>valid</td>\n",
       "      <td>0.994195</td>\n",
       "      <td>0.961159</td>\n",
       "      <td>0.943820</td>\n",
       "      <td>0.877285</td>\n",
       "      <td>0.965668</td>\n",
       "    </tr>\n",
       "    <tr>\n",
       "      <th>8</th>\n",
       "      <td>RFC</td>\n",
       "      <td>treino</td>\n",
       "      <td>1.000000</td>\n",
       "      <td>1.000000</td>\n",
       "      <td>1.000000</td>\n",
       "      <td>1.000000</td>\n",
       "      <td>1.000000</td>\n",
       "    </tr>\n",
       "    <tr>\n",
       "      <th>9</th>\n",
       "      <td>RFC</td>\n",
       "      <td>valid</td>\n",
       "      <td>0.993781</td>\n",
       "      <td>0.953623</td>\n",
       "      <td>0.980337</td>\n",
       "      <td>0.827014</td>\n",
       "      <td>0.944485</td>\n",
       "    </tr>\n",
       "  </tbody>\n",
       "</table>\n",
       "</div>"
      ],
      "text/plain": [
       "  classificador data_set       auc  accuracy    recall  precision  specificity\n",
       "0           RL1   treino  0.631488  0.673221  0.534956   0.739431     0.811486\n",
       "1           RL1    valid  0.504713  0.716522  0.412921   0.344262     0.795471\n",
       "2           RL2   treino  0.633650  0.675094  0.536829   0.742019     0.813358\n",
       "3           RL2    valid  0.505115  0.716522  0.404494   0.342043     0.797663\n",
       "4            NB   treino  0.983586  0.934457  0.898252   0.968371     0.970662\n",
       "5            NB    valid  0.981392  0.960000  0.918539   0.891008     0.970782\n",
       "6           XGB   treino  1.000000  1.000000  1.000000   1.000000     1.000000\n",
       "7           XGB    valid  0.994195  0.961159  0.943820   0.877285     0.965668\n",
       "8           RFC   treino  1.000000  1.000000  1.000000   1.000000     1.000000\n",
       "9           RFC    valid  0.993781  0.953623  0.980337   0.827014     0.944485"
      ]
     },
     "execution_count": 20,
     "metadata": {},
     "output_type": "execute_result"
    }
   ],
   "source": [
    "dados_resultado"
   ]
  },
  {
   "cell_type": "markdown",
   "id": "42336a3e",
   "metadata": {},
   "source": [
    "---\n",
    "\n",
    "**Análise Comparativa dos Classificadores**\n",
    "\n",
    "Os resultados apresentados permitem uma comparação clara entre cinco modelos de classificação — **Regressão Logística 1 (RL1)**, **Regressão Logística 2 (RL2)**, **Naive Bayes (NB)**, **XGBoost (XGB)** e **Random Forest (RFC)** — avaliados tanto em conjunto de **treino** quanto de **validação**. As métricas utilizadas foram: **AUC**, **acurácia**, **recall**, **precisão** e **especificidade**.\n",
    "\n",
    "🔹 Regressão Logística (RL1 e RL2)\n",
    "\n",
    "Os modelos de regressão logística, tanto RL1 quanto RL2, apresentaram desempenho modesto. Em **validação**, o **AUC ficou próximo de 0.50**, o que indica um modelo com baixa capacidade discriminativa semelhante ao acaso. Apesar de manter uma acurácia próxima de 71%, o **recall foi baixo (em torno de 41%)**, o que mostra dificuldades em identificar corretamente as instâncias positivas. A **precisão** também foi baixa, refletindo incerteza nas previsões positivas.\n",
    "\n",
    "🔹 Naive Bayes (NB)\n",
    "\n",
    "O Naive Bayes mostrou um **excelente desempenho** em ambos os conjuntos. No treino, obteve **AUC de 0.98** e acurácia superior a 93%. Em validação, manteve um desempenho elevado com **AUC de 0.98**, **recall de 91.85%** e **especificidade de 97.07%**, sugerindo que o modelo está equilibrado tanto para detectar positivos quanto para evitar falsos positivos. Além disso, mesmo com uma leve queda de precisão, o modelo demonstrou boa **generalização**.\n",
    "\n",
    "🔹 XGBoost (XGB)\n",
    "\n",
    "O modelo XGBoost apresentou **overfitting** no conjunto de treino, com todas as métricas em **1.0**, ou seja, desempenho perfeito. Entretanto, em validação, houve uma queda esperada: **AUC de 0.99**, **acurácia de 96.12%** e **recall de 94.38%**, o que ainda é excelente. O modelo conseguiu manter uma **boa generalização**, apesar de ligeira perda de precisão (87.72%).\n",
    "\n",
    "🔹 Random Forest (RFC)\n",
    "\n",
    "A Random Forest também apresentou **overfitting** nos dados de treino, com métricas perfeitas. Em validação, o desempenho foi ligeiramente inferior ao XGBoost, com **AUC de 0.99**, acurácia de 95.36%, e um **recall superior (98.03%)**, o que é altamente desejável em aplicações onde falsos negativos são críticos. A **precisão de 82.70%** mostra um bom equilíbrio, mesmo em cenários de alta sensibilidade.\n",
    "\n",
    "---\n",
    "\n",
    "**Conclusão**\n",
    "\n",
    "* **Modelos simples como Regressão Logística** não conseguiram capturar bem os padrões dos dados.\n",
    "* **Naive Bayes** se destacou com desempenho elevado e consistente entre treino e validação.\n",
    "* **XGBoost e Random Forest** foram os melhores modelos, mas com sinais de overfitting no treino. Ainda assim, **mantiveram ótimo desempenho em validação**, sendo ideais para uso em produção.\n",
    "* A **escolha final** entre os modelos mais robustos deve considerar o contexto: se o objetivo for **maximizar o recall**, Random Forest é ligeiramente superior; se for buscar **equilíbrio entre as métricas**, o XGBoost apresenta resultados mais homogêneos.\n",
    "\n",
    "---"
   ]
  },
  {
   "cell_type": "code",
   "execution_count": 21,
   "id": "de92cd95",
   "metadata": {},
   "outputs": [
    {
     "data": {
      "application/vnd.microsoft.datawrangler.viewer.v0+json": {
       "columns": [
        {
         "name": "index",
         "rawType": "int64",
         "type": "integer"
        },
        {
         "name": "classificador",
         "rawType": "object",
         "type": "string"
        },
        {
         "name": "data_set",
         "rawType": "object",
         "type": "string"
        },
        {
         "name": "auc",
         "rawType": "float64",
         "type": "float"
        },
        {
         "name": "accuracy",
         "rawType": "float64",
         "type": "float"
        },
        {
         "name": "recall",
         "rawType": "float64",
         "type": "float"
        },
        {
         "name": "precision",
         "rawType": "float64",
         "type": "float"
        },
        {
         "name": "specificity",
         "rawType": "float64",
         "type": "float"
        }
       ],
       "ref": "b2d9c310-8e81-4b40-945f-b329c4fc2edb",
       "rows": [
        [
         "7",
         "XGB",
         "valid",
         "0.994195303715498",
         "0.9611594202898551",
         "0.9438202247191011",
         "0.8772845953002611",
         "0.9656683710737765"
        ],
        [
         "9",
         "RFC",
         "valid",
         "0.9937808291133526",
         "0.9536231884057971",
         "0.9803370786516854",
         "0.8270142180094787",
         "0.9444850255661067"
        ],
        [
         "5",
         "NB",
         "valid",
         "0.9813917318472436",
         "0.96",
         "0.9185393258426966",
         "0.8910081743869209",
         "0.970781592403214"
        ],
        [
         "3",
         "RL2",
         "valid",
         "0.5051152731839036",
         "0.7165217391304348",
         "0.4044943820224719",
         "0.342042755344418",
         "0.7976625273922571"
        ],
        [
         "1",
         "RL1",
         "valid",
         "0.5047131097085547",
         "0.7165217391304348",
         "0.41292134831460675",
         "0.3442622950819672",
         "0.7954711468224982"
        ]
       ],
       "shape": {
        "columns": 7,
        "rows": 5
       }
      },
      "text/html": [
       "<div>\n",
       "<style scoped>\n",
       "    .dataframe tbody tr th:only-of-type {\n",
       "        vertical-align: middle;\n",
       "    }\n",
       "\n",
       "    .dataframe tbody tr th {\n",
       "        vertical-align: top;\n",
       "    }\n",
       "\n",
       "    .dataframe thead th {\n",
       "        text-align: right;\n",
       "    }\n",
       "</style>\n",
       "<table border=\"1\" class=\"dataframe\">\n",
       "  <thead>\n",
       "    <tr style=\"text-align: right;\">\n",
       "      <th></th>\n",
       "      <th>classificador</th>\n",
       "      <th>data_set</th>\n",
       "      <th>auc</th>\n",
       "      <th>accuracy</th>\n",
       "      <th>recall</th>\n",
       "      <th>precision</th>\n",
       "      <th>specificity</th>\n",
       "    </tr>\n",
       "  </thead>\n",
       "  <tbody>\n",
       "    <tr>\n",
       "      <th>7</th>\n",
       "      <td>XGB</td>\n",
       "      <td>valid</td>\n",
       "      <td>0.994195</td>\n",
       "      <td>0.961159</td>\n",
       "      <td>0.943820</td>\n",
       "      <td>0.877285</td>\n",
       "      <td>0.965668</td>\n",
       "    </tr>\n",
       "    <tr>\n",
       "      <th>9</th>\n",
       "      <td>RFC</td>\n",
       "      <td>valid</td>\n",
       "      <td>0.993781</td>\n",
       "      <td>0.953623</td>\n",
       "      <td>0.980337</td>\n",
       "      <td>0.827014</td>\n",
       "      <td>0.944485</td>\n",
       "    </tr>\n",
       "    <tr>\n",
       "      <th>5</th>\n",
       "      <td>NB</td>\n",
       "      <td>valid</td>\n",
       "      <td>0.981392</td>\n",
       "      <td>0.960000</td>\n",
       "      <td>0.918539</td>\n",
       "      <td>0.891008</td>\n",
       "      <td>0.970782</td>\n",
       "    </tr>\n",
       "    <tr>\n",
       "      <th>3</th>\n",
       "      <td>RL2</td>\n",
       "      <td>valid</td>\n",
       "      <td>0.505115</td>\n",
       "      <td>0.716522</td>\n",
       "      <td>0.404494</td>\n",
       "      <td>0.342043</td>\n",
       "      <td>0.797663</td>\n",
       "    </tr>\n",
       "    <tr>\n",
       "      <th>1</th>\n",
       "      <td>RL1</td>\n",
       "      <td>valid</td>\n",
       "      <td>0.504713</td>\n",
       "      <td>0.716522</td>\n",
       "      <td>0.412921</td>\n",
       "      <td>0.344262</td>\n",
       "      <td>0.795471</td>\n",
       "    </tr>\n",
       "  </tbody>\n",
       "</table>\n",
       "</div>"
      ],
      "text/plain": [
       "  classificador data_set       auc  accuracy    recall  precision  specificity\n",
       "7           XGB    valid  0.994195  0.961159  0.943820   0.877285     0.965668\n",
       "9           RFC    valid  0.993781  0.953623  0.980337   0.827014     0.944485\n",
       "5            NB    valid  0.981392  0.960000  0.918539   0.891008     0.970782\n",
       "3           RL2    valid  0.505115  0.716522  0.404494   0.342043     0.797663\n",
       "1           RL1    valid  0.504713  0.716522  0.412921   0.344262     0.795471"
      ]
     },
     "execution_count": 21,
     "metadata": {},
     "output_type": "execute_result"
    }
   ],
   "source": [
    "# Filtra o DataFrame 'dados_resultado' para manter apenas as linhas em que a coluna 'data_set' é igual a 'valid'\n",
    "# Isso seleciona os resultados referentes ao conjunto de validação (validação cruzada, hold-out, etc.)\n",
    "dados_resultado[dados_resultado['data_set'] == 'valid'].sort_values(by = 'auc', ascending = False)\n",
    "# Aplica ordenação ao resultado filtrado com base na coluna 'auc' (Area Under the Curve)\n",
    "# 'ascending = False' indica que queremos ordenar do maior para o menor valor de AUC,\n",
    "# ou seja, queremos ver primeiro os modelos com melhor desempenho de classificação"
   ]
  },
  {
   "cell_type": "code",
   "execution_count": 22,
   "id": "d698ee7d",
   "metadata": {},
   "outputs": [
    {
     "data": {
      "image/png": "[encoded data removed]",
      "text/plain": [
       "<Figure size 800x500 with 1 Axes>"
      ]
     },
     "metadata": {},
     "output_type": "display_data"
    }
   ],
   "source": [
    "# Define o estilo visual dos gráficos com a grade branca de fundo (whitegrid)\n",
    "# O seaborn ajusta automaticamente cores, grades e fontes com base nesse estilo\n",
    "sns.set_style(\"whitegrid\")\n",
    "\n",
    "# Define o tamanho da figura do gráfico em polegadas (largura=8, altura=5)\n",
    "# Isso controla o espaço disponível para os elementos visuais (barras, legendas, títulos)\n",
    "plt.figure(figsize=(8, 5))\n",
    "\n",
    "# Cria um gráfico de barras (barplot) usando seaborn\n",
    "# Eixo x: nomes dos classificadores\n",
    "# Eixo y: valores de AUC (area under the curve)\n",
    "# hue='data_set' permite comparar subconjuntos (ex.: treino vs validação) com cores diferentes\n",
    "# data=dados_resultado especifica o DataFrame de origem\n",
    "ax = sns.barplot(x='classificador', y='auc', hue='data_set', data=dados_resultado)\n",
    "\n",
    "# Define o rótulo do eixo x com o texto 'Classificador' e tamanho de fonte 15\n",
    "ax.set_xlabel('Classificador', fontsize=15)\n",
    "\n",
    "# Define o rótulo do eixo y com o texto 'AUC' e tamanho de fonte 15\n",
    "ax.set_ylabel('AUC', fontsize=15)\n",
    "\n",
    "# Define o tamanho dos números e rótulos nos eixos x e y\n",
    "ax.tick_params(labelsize=15)\n",
    "\n",
    "# Coloca a legenda fora do gráfico, à direita (bbox_to_anchor desloca a legenda)\n",
    "# loc=2 indica posição \"superior esquerda\" relativa à âncora\n",
    "# fontsize=15 ajusta o tamanho da fonte da legenda\n",
    "plt.legend(bbox_to_anchor=(1.05, 1), loc=2, borderaxespad=0., fontsize=15)\n",
    "\n",
    "# Exibe o gráfico na tela\n",
    "plt.show()"
   ]
  },
  {
   "cell_type": "markdown",
   "id": "edc94ba4",
   "metadata": {},
   "source": [
    "# 8.0 Otimização de Hiperparâmetros e Validação Cruzada"
   ]
  },
  {
   "cell_type": "markdown",
   "id": "8eb0dca2",
   "metadata": {},
   "source": [
    "---\n",
    "\n",
    "Embora modelos preditivos possam apresentar resultados satisfatórios em uma avaliação inicial, isso não garante que estejam operando com seu desempenho ideal ou que generalizem bem para novos conjuntos de dados. Neste capítulo, exploramos a importância da validação cruzada e da otimização de hiperparâmetros como etapas fundamentais para o aprimoramento da performance dos modelos.\n",
    "\n",
    "A validação cruzada permite uma avaliação mais robusta e confiável do desempenho, ao reduzir o viés que pode ocorrer quando se utiliza uma única partição dos dados para teste. Essa técnica distribui os dados entre múltiplos subconjuntos, garantindo que o modelo seja testado de forma mais equilibrada e representativa. Já a otimização de hiperparâmetros busca identificar a melhor combinação de parâmetros de controle que regem o funcionamento interno dos algoritmos, permitindo extrair o máximo potencial de cada modelo.\n",
    "\n",
    "Mesmo quando os resultados iniciais são considerados bons, essas técnicas garantem que o modelo não esteja apenas ajustado aos dados observados, mas sim pronto para lidar com dados futuros de forma eficiente, confiável e com menor risco de overfitting ou underfitting. Portanto, validação cruzada e ajuste de hiperparâmetros são componentes indispensáveis em qualquer pipeline de modelagem estatística ou aprendizado de máquina.\n",
    "\n",
    "---"
   ]
  },
  {
   "cell_type": "code",
   "execution_count": 23,
   "id": "afc3bfa8",
   "metadata": {},
   "outputs": [],
   "source": [
    "# Importa a função GridSearchCV da biblioteca sklearn para busca de hiperparâmetros\n",
    "from sklearn.model_selection import GridSearchCV\n",
    "\n",
    "# Define o espaço de busca dos hiperparâmetros para o RandomForestClassifier\n",
    "espaco_hiperparametro = {\n",
    "    'n_estimators': [100, 200, 300],  # Número de árvores na floresta\n",
    "    'max_depth': [None, 10, 20, 30],  # Profundidade máxima da árvore\n",
    "    'min_samples_split': [2, 5, 10],  # Número mínimo de amostras necessárias para dividir um nó\n",
    "    'min_samples_leaf': [1, 2, 4]     # Número mínimo de amostras que devem estar presentes em um nó folha\n",
    "}\n"
   ]
  },
  {
   "cell_type": "code",
   "execution_count": 24,
   "id": "5fe7610d",
   "metadata": {},
   "outputs": [],
   "source": [
    "# Cria o classificador com RandomForest\n",
    "from sklearn.ensemble import RandomForestClassifier\n",
    "classificador = RandomForestClassifier()\n",
    "\n",
    "# Configura o GridSearchCV para buscar os melhores hiperparâmetros\n",
    "melhores_hiperparametros = GridSearchCV(estimator=classificador, \n",
    "                           param_grid=espaco_hiperparametro, \n",
    "                           cv=5,                # Número de folds para validação cruzada\n",
    "                           scoring='roc_auc',   # Métrica de avaliação: área sob a curva ROC\n",
    "                           verbose=2,           # Nível de verbosidade\n",
    "                           n_jobs=-1)           # Usa todos os processadores disponíveis"
   ]
  },
  {
   "cell_type": "code",
   "execution_count": 25,
   "id": "4b82b0d7",
   "metadata": {},
   "outputs": [
    {
     "name": "stdout",
     "output_type": "stream",
     "text": [
      "Fitting 5 folds for each of 108 candidates, totalling 540 fits\n",
      "Melhores hiperparâmetros: {'max_depth': None, 'min_samples_leaf': 1, 'min_samples_split': 2, 'n_estimators': 300}\n"
     ]
    }
   ],
   "source": [
    "# Ajusta (treina) o modelo de floresta aleatória usando o GridSearchCV chamado 'melhores_hiperparametros'\n",
    "# Isso executa a validação cruzada para cada combinação de hiperparâmetros definidos no param_grid\n",
    "# Os dados de treino foram previamente padronizados para garantir que atributos em escalas diferentes\n",
    "# não influenciem o modelo indevidamente (importante para muitos algoritmos)\n",
    "modelo_floresta_aleatoria = melhores_hiperparametros.fit(dados_treino_x_padronizados, dados_treino_y)\n",
    "\n",
    "# Após o ajuste, acessa os melhores hiperparâmetros encontrados pelo GridSearchCV\n",
    "# .best_params_ retorna um dicionário com os valores de hiperparâmetros que produziram o melhor desempenho\n",
    "print('Melhores hiperparâmetros:', melhores_hiperparametros.best_params_)"
   ]
  },
  {
   "cell_type": "code",
   "execution_count": 26,
   "id": "62e84014",
   "metadata": {},
   "outputs": [
    {
     "name": "stdout",
     "output_type": "stream",
     "text": [
      "Modelo Random Forest Classifier com Otimização de Hiperparâmetros e Validação Cruzada:\n",
      "\n",
      "Treinamento:\n",
      "\n",
      "AUC:1.000\n",
      "Acurácia:1.000\n",
      "Recall:1.000\n",
      "Precisão:1.000\n",
      "Especificidade:1.000\n",
      " \n",
      "Validação:\n",
      "\n",
      "AUC:0.994\n",
      "Acurácia:0.955\n",
      "Recall:0.978\n",
      "Precisão:0.835\n",
      "Especificidade:0.950\n",
      " \n"
     ]
    }
   ],
   "source": [
    "# Gera as probabilidades preditas da classe positiva (1) para os dados de treino\n",
    "predicao_treino_y = modelo_floresta_aleatoria.predict_proba(dados_treino_x_padronizados)[:, 1]\n",
    "\n",
    "# Gera as probabilidades preditas da classe positiva (1) para os dados de validação\n",
    "predicao_validacao_y = modelo_floresta_aleatoria.predict_proba(dados_validacao_x_padronizados)[:, 1]\n",
    "\n",
    "print('Modelo Random Forest Classifier com Otimização de Hiperparâmetros e Validação Cruzada:\\n')\n",
    "\n",
    "print('Treinamento:\\n')\n",
    "# Calcula e imprime as métricas de desempenho do modelo nos dados de treino\n",
    "classificador_floresta_aleatoria_train_auc, classificador_floresta_aleatoria_train_accuracy, classificador_floresta_aleatoria_train_recall, classificador_floresta_aleatoria_train_precision, classificador_floresta_aleatoria_train_specificity = relatorio_metricas(\n",
    "    dados_treino_y,           # Rótulos reais do conjunto de treino\n",
    "    predicao_treino_y,        # Probabilidades previstas pelo modelo para o treino\n",
    "    separador                 # Threshold (limiar) para classificar como 0 ou 1\n",
    ")\n",
    "\n",
    "print('Validação:\\n')\n",
    "# Calcula e imprime as métricas de desempenho do modelo nos dados de validação\n",
    "classificador_floresta_aleatoria_valid_auc, classificador_floresta_aleatoria_valid_accuracy, classificador_floresta_aleatoria_valid_recall, classificador_floresta_aleatoria_valid_precision, classificador_floresta_aleatoria_valid_specificity = relatorio_metricas(\n",
    "    dados_validacao_y,        # Rótulos reais do conjunto de validação\n",
    "    predicao_validacao_y,     # Probabilidades previstas pelo modelo para validação\n",
    "    separador                 # Threshold (limiar) de decisão\n",
    ")"
   ]
  },
  {
   "cell_type": "code",
   "execution_count": null,
   "id": "37c84663",
   "metadata": {},
   "outputs": [],
   "source": [
    "# Importa o módulo 'os' que permite interagir com o sistema operacional,\n",
    "# como verificar e criar pastas no sistema de arquivos.\n",
    "import os\n",
    "\n",
    "# Verifica se a pasta chamada 'modelos' já existe no diretório atual.\n",
    "# Isso evita erro se tentarmos criar uma pasta que já está criada.\n",
    "if not os.path.exists('modelos'):\n",
    "    # Caso a pasta 'modelos' não exista, ela será criada automaticamente.\n",
    "    os.makedirs('modelos')"
   ]
  },
  {
   "cell_type": "code",
   "execution_count": 32,
   "id": "558e97f2",
   "metadata": {},
   "outputs": [],
   "source": [
    "# Salva (serializa) o objeto 'modelo_floresta_aleatoria' em um arquivo usando o módulo pickle.\n",
    "# Esse processo transforma o modelo treinado em uma sequência de bytes para que ele possa ser armazenado em disco\n",
    "# e reutilizado posteriormente, sem a necessidade de re-treinamento.\n",
    "\n",
    "# A função 'open' é usada para abrir (ou criar) o arquivo chamado 'melhor_modelo.pkl' dentro da pasta 'modelos'.\n",
    "# O modo 'wb' significa \"write binary\" (escrita em modo binário), necessário para salvar objetos com pickle.\n",
    "\n",
    "# O parâmetro 'protocol=4' define o protocolo de serialização do pickle.\n",
    "# O protocolo 4 é compatível com versões do Python a partir da 3.4 e é mais eficiente para objetos grandes.\n",
    "pickle.dump(modelo_floresta_aleatoria, open('modelos/melhor_modelo.pkl', 'wb'), protocol=4)"
   ]
  },
  {
   "cell_type": "markdown",
   "id": "738a42d8",
   "metadata": {},
   "source": [
    "# 9.0 Avaliação Final do Modelo"
   ]
  },
  {
   "cell_type": "markdown",
   "id": "ad8707b1",
   "metadata": {},
   "source": [
    "## 9.1 Carregando Dados"
   ]
  },
  {
   "cell_type": "code",
   "execution_count": null,
   "id": "642f3b1f",
   "metadata": {},
   "outputs": [],
   "source": [
    "# Carrega o modelo treinado salvo anteriormente com pickle.\n",
    "# O arquivo 'melhor_modelo.pkl' está localizado na pasta 'modelos'.\n",
    "# O modo 'rb' significa \"read binary\" (leitura em modo binário), necessário para deserializar com pickle.\n",
    "melhor_modelo = pickle.load(open('modelos/melhor_modelo.pkl', 'rb'))\n",
    "\n",
    "# Carrega a lista ou estrutura que contém os nomes das colunas utilizadas como entrada no modelo.\n",
    "# Isso é importante para garantir que os dados novos estejam no mesmo formato que os dados usados no treinamento.\n",
    "colunas_entrada = pickle.load(open('dados/colunas_entrada.sav', 'rb'))\n",
    "\n",
    "# Carrega o objeto de normalização (por exemplo, um StandardScaler) que foi usado para padronizar os dados de entrada.\n",
    "# É fundamental aplicar exatamente a mesma normalização nos dados novos para que o modelo funcione corretamente.\n",
    "normalizacao_dados = pickle.load(open('dados/padronizador.sav', 'rb'))             "
   ]
  },
  {
   "cell_type": "code",
   "execution_count": 35,
   "id": "ac63c68d",
   "metadata": {},
   "outputs": [],
   "source": [
    "# Importa os dados de treino a partir do arquivo CSV localizado na pasta 'dados'.\n",
    "# Este conjunto será utilizado para treinar o modelo ou para análises internas.\n",
    "dados_treino = pd.read_csv(\"dados/dataset_final_treino.csv\")\n",
    "\n",
    "# Importa os dados de validação, também a partir da pasta 'dados'.\n",
    "# O conjunto de validação é usado para avaliar o desempenho do modelo durante o ajuste,\n",
    "# ajudando na escolha de hiperparâmetros e prevenção de overfitting.\n",
    "dados_validacao = pd.read_csv('dados/dataset_validacao.csv')\n",
    "\n",
    "# Importa os dados de teste finais, que devem ser mantidos separados do processo de modelagem.\n",
    "# Esse conjunto é utilizado para avaliar o desempenho real do modelo em dados nunca vistos.\n",
    "dados_teste = pd.read_csv('dados/dataset_teste.csv')"
   ]
  },
  {
   "cell_type": "markdown",
   "id": "4d8d7283",
   "metadata": {},
   "source": [
    "## 9.2 Criando Matrizes X e Y"
   ]
  },
  {
   "cell_type": "code",
   "execution_count": 36,
   "id": "84f20b4b",
   "metadata": {},
   "outputs": [],
   "source": [
    "# Seleciona apenas as colunas de entrada (features) do conjunto de dados de treino,\n",
    "# com base na lista 'colunas_entrada' previamente carregada. \n",
    "# O método '.values' converte o DataFrame em um array NumPy, que é o formato esperado por muitos modelos.\n",
    "x_treino = dados_treino[colunas_entrada].values\n",
    "\n",
    "# Faz o mesmo para os dados de validação, garantindo que as mesmas colunas de entrada sejam usadas\n",
    "# e na mesma ordem. Isso é crucial para manter a consistência do modelo.\n",
    "x_validacao = dados_validacao[colunas_entrada].values\n",
    "\n",
    "# Também aplica a mesma seleção de colunas aos dados de teste.\n",
    "# Dessa forma, todos os conjuntos (treino, validação e teste) têm a mesma estrutura.\n",
    "x_teste = dados_teste[colunas_entrada].values"
   ]
  },
  {
   "cell_type": "code",
   "execution_count": null,
   "id": "b0b98228",
   "metadata": {},
   "outputs": [],
   "source": [
    "# Extrai a variável alvo (target) do conjunto de treino, que neste caso é a coluna 'LABEL_TARGET'.\n",
    "# O método '.values' converte a coluna em um array NumPy para uso nos algoritmos de machine learning.\n",
    "y_treino = dados_treino['LABEL_TARGET'].values\n",
    "\n",
    "# Faz o mesmo para o conjunto de validação, garantindo que a variável alvo esteja separada\n",
    "# para avaliação durante o ajuste e validação do modelo.\n",
    "y_validacao = dados_validacao['LABEL_TARGET'].values\n",
    "\n",
    "# E também para o conjunto de teste, que será usado para avaliar a performance final do modelo.\n",
    "y_teste = dados_teste['LABEL_TARGET'].values"
   ]
  },
  {
   "cell_type": "code",
   "execution_count": 38,
   "id": "11a20148",
   "metadata": {},
   "outputs": [],
   "source": [
    "# Aplica o transformador de normalização (por exemplo, StandardScaler) nos dados de treino.\n",
    "# Isso garante que todas as variáveis de entrada estejam na mesma escala (média 0, desvio padrão 1),\n",
    "# utilizando os parâmetros (média e desvio) que foram ajustados no conjunto original de treino.\n",
    "x_treino_padronizado = normalizacao_dados.transform(x_treino)\n",
    "\n",
    "# Aplica a mesma transformação nos dados de validação.\n",
    "# É importante usar o mesmo transformador para garantir consistência nos dados e evitar vazamento de dados.\n",
    "x_validacao_padronizado = normalizacao_dados.transform(x_validacao)\n",
    "\n",
    "# Também transforma os dados de teste com o mesmo padronizador.\n",
    "# Isso garante que os dados usados para avaliar o modelo final estejam no mesmo formato dos dados de treino.\n",
    "x_teste_padronizado = normalizacao_dados.transform(x_teste)"
   ]
  },
  {
   "cell_type": "code",
   "execution_count": 39,
   "id": "8fa92816",
   "metadata": {},
   "outputs": [],
   "source": [
    "# Realiza a predição das probabilidades no conjunto de treino usando o modelo carregado.\n",
    "# A função 'predict_proba' retorna uma matriz com duas colunas:\n",
    "# - [:, 0] = probabilidade de pertencer à classe 0\n",
    "# - [:, 1] = probabilidade de pertencer à classe 1 (classe positiva, geralmente o foco em classificação binária)\n",
    "# Aqui, estamos selecionando apenas a segunda coluna, ou seja, a probabilidade da classe positiva.\n",
    "y_predicao_treino = melhor_modelo.predict_proba(x_treino_padronizado)[:, 1]\n",
    "\n",
    "# Faz o mesmo para o conjunto de validação, obtendo a probabilidade da classe 1.\n",
    "# Essa probabilidade pode ser usada para avaliar o modelo com métricas como AUC, Precision-Recall, etc.\n",
    "y_predicao_validacao = melhor_modelo.predict_proba(x_validacao_padronizado)[:, 1]\n",
    "\n",
    "# E por fim, aplica a mesma predição no conjunto de teste, que representa os dados \"reais\" e finais para análise.\n",
    "# Esses valores são cruciais para avaliar o desempenho do modelo antes de um possível deploy.\n",
    "y_predicao_teste = melhor_modelo.predict_proba(x_teste_padronizado)[:, 1]"
   ]
  },
  {
   "cell_type": "markdown",
   "id": "70ff0b66",
   "metadata": {},
   "source": [
    "## 9.3 Avaliação Final"
   ]
  },
  {
   "cell_type": "code",
   "execution_count": 40,
   "id": "b5bca2bf",
   "metadata": {},
   "outputs": [
    {
     "name": "stdout",
     "output_type": "stream",
     "text": [
      "\n",
      "Treinamento:\n",
      "\n",
      "AUC:1.000\n",
      "Acurácia:1.000\n",
      "Recall:1.000\n",
      "Precisão:1.000\n",
      "Especificidade:1.000\n",
      " \n",
      "Validação:\n",
      "\n",
      "AUC:0.994\n",
      "Acurácia:0.955\n",
      "Recall:0.978\n",
      "Precisão:0.835\n",
      "Especificidade:0.950\n",
      " \n",
      "\n",
      "Teste:\n",
      "\n",
      "AUC:0.993\n",
      "Acurácia:0.948\n",
      "Recall:0.985\n",
      "Precisão:0.800\n",
      "Especificidade:0.937\n",
      " \n"
     ]
    }
   ],
   "source": [
    "# Define o limiar (threshold) de classificação.\n",
    "# Se a probabilidade prevista for >= 0.5, será considerada como classe 1 (positiva); caso contrário, classe 0.\n",
    "separador = 0.5\n",
    "\n",
    "# Impressão de cabeçalho para indicar que as métricas a seguir se referem ao conjunto de treino.\n",
    "print('\\nTreinamento:\\n')\n",
    "\n",
    "# Chama a função 'relatorio_metricas' passando os rótulos verdadeiros e as probabilidades previstas para o conjunto de treino.\n",
    "# O separador é usado internamente para transformar as probabilidades em classes preditas (0 ou 1).\n",
    "# A função retorna várias métricas de avaliação: AUC, Acurácia, Recall, Precisão e Especificidade.\n",
    "classificador_floresta_aleatoria_train_auc, classificador_floresta_aleatoria_train_accuracy, classificador_floresta_aleatoria_train_recall, classificador_floresta_aleatoria_train_precision, classificador_floresta_aleatoria_train_specificity = relatorio_metricas(\n",
    "    y_treino,              # Rótulos reais do treino\n",
    "    y_predicao_treino,     # Probabilidades preditas pelo modelo\n",
    "    separador              # Limiar de corte para converter probabilidade em classe\n",
    ")\n",
    "\n",
    "# Impressão de cabeçalho para indicar que agora as métricas serão do conjunto de validação.\n",
    "print('Validação:\\n')\n",
    "\n",
    "# Repete o processo acima, agora com os dados de validação.\n",
    "classificador_floresta_aleatoria_valid_auc, classificador_floresta_aleatoria_valid_accuracy, classificador_floresta_aleatoria_valid_recall, classificador_floresta_aleatoria_valid_precision, classificador_floresta_aleatoria_valid_specificity = relatorio_metricas(\n",
    "    y_validacao,             # Rótulos reais da validação\n",
    "    y_predicao_validacao,    # Probabilidades preditas pelo modelo\n",
    "    separador                # Limiar de decisão\n",
    ")\n",
    "\n",
    "# Imprime o relatório de métricas no conjunto de teste\n",
    "print('\\nTeste:\\n')\n",
    "# Por fim, calcula as métricas de avaliação no conjunto de teste,\n",
    "# que é usado para simular o desempenho real do modelo em produção.\n",
    "classificador_floresta_aleatoria_test_auc, classificador_floresta_aleatoria_test_accuracy, classificador_floresta_aleatoria_test_recall, classificador_floresta_aleatoria_test_precision, classificador_floresta_aleatoria_test_specificity = relatorio_metricas(\n",
    "    y_teste,               # Rótulos reais do teste\n",
    "    y_predicao_teste,      # Probabilidades preditas\n",
    "    separador              # Limiar para transformar probabilidade em classe\n",
    ") \n",
    "        "
   ]
  },
  {
   "cell_type": "code",
   "execution_count": null,
   "id": "26b0ebf9",
   "metadata": {},
   "outputs": [
    {
     "data": {
      "image/png": "[encoded data removed]",
      "text/plain": [
       "<Figure size 1600x1000 with 1 Axes>"
      ]
     },
     "metadata": {},
     "output_type": "display_data"
    }
   ],
   "source": [
    "# Importa a função 'roc_curve' para calcular a curva ROC\n",
    "# e 'roc_auc_score' para calcular a área sob a curva ROC (AUC)\n",
    "from sklearn.metrics import roc_curve, roc_auc_score\n",
    "\n",
    "# Importa a biblioteca de visualização para plotar os gráficos\n",
    "import matplotlib.pyplot as plt\n",
    "\n",
    "# -----------------------------\n",
    "# CÁLCULO DA CURVA ROC - TREINO\n",
    "# -----------------------------\n",
    "\n",
    "# Calcula a curva ROC no conjunto de treino.\n",
    "# 'roc_curve' retorna 3 elementos:\n",
    "# - fpr_train: taxa de falso positivo (False Positive Rate)\n",
    "# - tpr_train: taxa de verdadeiro positivo (True Positive Rate)\n",
    "# - thresholds_train: limiares de probabilidade para as classificações\n",
    "fpr_train, tpr_train, thresholds_train = roc_curve(y_treino, y_predicao_treino)\n",
    "\n",
    "# Calcula a área sob a curva ROC (AUC) para o conjunto de treino.\n",
    "# A AUC varia de 0.5 (modelo aleatório) a 1 (classificação perfeita).\n",
    "auc_train = roc_auc_score(y_treino, y_predicao_treino)\n",
    "\n",
    "# --------------------------------\n",
    "# CÁLCULO DA CURVA ROC - VALIDAÇÃO\n",
    "# --------------------------------\n",
    "\n",
    "# Aplica o mesmo processo de cálculo da curva ROC ao conjunto de validação\n",
    "fpr_valid, tpr_valid, thresholds_valid = roc_curve(y_validacao, y_predicao_validacao)\n",
    "\n",
    "# Calcula a AUC para os dados de validação\n",
    "auc_valid = roc_auc_score(y_validacao, y_predicao_validacao)\n",
    "\n",
    "# ----------------------------\n",
    "# CÁLCULO DA CURVA ROC - TESTE\n",
    "# ----------------------------\n",
    "\n",
    "# Calcula a curva ROC no conjunto de teste\n",
    "fpr_test, tpr_test, thresholds_test = roc_curve(y_teste, y_predicao_teste)\n",
    "\n",
    "# Calcula a AUC para o conjunto de teste\n",
    "auc_test = roc_auc_score(y_teste, y_predicao_teste)\n",
    "\n",
    "# -------------------------------\n",
    "# PLOTAGEM DAS CURVAS ROC\n",
    "# -------------------------------\n",
    "\n",
    "# Cria uma nova figura com tamanho 16x10 polegadas para melhor visualização\n",
    "plt.figure(figsize=(16, 10))\n",
    "\n",
    "# Plota a curva ROC para o conjunto de treino com linha vermelha\n",
    "plt.plot(fpr_train, tpr_train, 'r-', label='AUC em Treino: %.3f' % auc_train)\n",
    "\n",
    "# Plota a curva ROC para o conjunto de validação com linha azul\n",
    "plt.plot(fpr_valid, tpr_valid, 'b-', label='AUC em Validação: %.3f' % auc_valid)\n",
    "\n",
    "# Plota a curva ROC para o conjunto de teste com linha verde\n",
    "plt.plot(fpr_test, tpr_test, 'g-', label='AUC em Teste: %.3f' % auc_test)\n",
    "\n",
    "# Plota a linha de referência (classificação aleatória), uma diagonal de 0 a 1\n",
    "plt.plot([0, 1], [0, 1], 'k--')\n",
    "\n",
    "# Define o rótulo do eixo X como \"Taxa de Falso Positivo\"\n",
    "plt.xlabel('Taxa de Falso Positivo')\n",
    "\n",
    "# Define o rótulo do eixo Y como \"Taxa de Verdadeiro Positivo\"\n",
    "plt.ylabel('Taxa de Verdadeiro Positivo')\n",
    "\n",
    "# Adiciona a legenda no gráfico, com as AUCs de cada conjunto\n",
    "plt.legend()\n",
    "\n",
    "# Exibe o gráfico na tela\n",
    "plt.show()"
   ]
  },
  {
   "cell_type": "markdown",
   "id": "99891550",
   "metadata": {},
   "source": [
    "---\n",
    "\n",
    "### 📝 **Relatório – Avaliação do Modelo via Curva ROC**\n",
    "\n",
    "A curva ROC (Receiver Operating Characteristic) é uma ferramenta essencial para avaliar o desempenho de modelos de classificação binária, especialmente quando se trabalha com diferentes limiares de decisão.\n",
    "\n",
    "#### 🔍 **Resumo das AUCs**\n",
    "\n",
    "* **Treinamento (AUC = 1.000)**\n",
    "  O modelo apresenta desempenho perfeito no conjunto de treino, o que é um forte indicativo de **overfitting** — ou seja, ele pode ter memorizado os dados de treino em vez de aprender padrões generalizáveis.\n",
    "\n",
    "* **Validação (AUC = 0.994)**\n",
    "  Excelente desempenho no conjunto de validação, o que sugere que o modelo generalizou bem. A proximidade com a AUC de treino mostra que o modelo manteve boa capacidade preditiva em dados novos (durante o ajuste de hiperparâmetros, por exemplo).\n",
    "\n",
    "* **Teste (AUC = 0.993)**\n",
    "  A AUC no teste é quase idêntica à da validação, o que confirma que o modelo possui **alta capacidade de generalização** e estabilidade preditiva. Isso reforça que o modelo está bem ajustado e pronto para uso prático.\n",
    "\n",
    "#### 📈 **Interpretação Gráfica**\n",
    "\n",
    "* As curvas ROC de treino, validação e teste estão próximas do canto superior esquerdo do gráfico, o que é **ideal** e indica baixas taxas de falsos positivos e altas taxas de verdadeiros positivos.\n",
    "* A linha pontilhada preta representa um classificador aleatório (AUC = 0.5). Como todas as curvas estão bem acima dela, temos evidência de que o modelo está fazendo boas distinções entre as classes.\n",
    "\n",
    "---\n",
    "\n",
    "### ✅ **Conclusão**\n",
    "\n",
    "O modelo apresenta excelente desempenho em todos os conjuntos (treino, validação e teste), com **valores de AUC superiores a 0.99**. Apesar da AUC perfeita no treino sugerir overfitting, os resultados consistentes nos dados de validação e teste indicam que o modelo generaliza bem. Portanto, ele é considerado robusto e confiável para produção, mas recomenda-se monitoramento contínuo em dados reais.\n",
    "\n",
    "---\n"
   ]
  },
  {
   "cell_type": "markdown",
   "id": "6b1272cd",
   "metadata": {},
   "source": [
    "# 10.0 Deploy do Modelo"
   ]
  },
  {
   "cell_type": "code",
   "execution_count": null,
   "id": "ba22b985",
   "metadata": {},
   "outputs": [],
   "source": [
    "# Lê o arquivo 'novo_cliente.csv' localizado na pasta 'dados' e carrega os dados em um DataFrame do pandas.\n",
    "# Esse arquivo provavelmente contém informações de um ou mais novos clientes que você deseja analisar ou prever.\n",
    "novos_dados_clientes = pd.read_csv('dados/novo_cliente.csv')"
   ]
  },
  {
   "cell_type": "code",
   "execution_count": 44,
   "id": "d1b8a7fa",
   "metadata": {},
   "outputs": [
    {
     "data": {
      "application/vnd.microsoft.datawrangler.viewer.v0+json": {
       "columns": [
        {
         "name": "index",
         "rawType": "int64",
         "type": "integer"
        },
        {
         "name": "X1",
         "rawType": "int64",
         "type": "integer"
        },
        {
         "name": "X2",
         "rawType": "int64",
         "type": "integer"
        },
        {
         "name": "X3",
         "rawType": "int64",
         "type": "integer"
        },
        {
         "name": "X4",
         "rawType": "int64",
         "type": "integer"
        },
        {
         "name": "X5",
         "rawType": "int64",
         "type": "integer"
        },
        {
         "name": "X6",
         "rawType": "int64",
         "type": "integer"
        },
        {
         "name": "X7",
         "rawType": "int64",
         "type": "integer"
        },
        {
         "name": "X8",
         "rawType": "int64",
         "type": "integer"
        },
        {
         "name": "X9",
         "rawType": "int64",
         "type": "integer"
        },
        {
         "name": "X10",
         "rawType": "int64",
         "type": "integer"
        },
        {
         "name": "X11",
         "rawType": "int64",
         "type": "integer"
        },
        {
         "name": "X12",
         "rawType": "int64",
         "type": "integer"
        },
        {
         "name": "X13",
         "rawType": "int64",
         "type": "integer"
        },
        {
         "name": "X14",
         "rawType": "int64",
         "type": "integer"
        },
        {
         "name": "X15",
         "rawType": "int64",
         "type": "integer"
        },
        {
         "name": "X16",
         "rawType": "int64",
         "type": "integer"
        },
        {
         "name": "X17",
         "rawType": "int64",
         "type": "integer"
        },
        {
         "name": "X18",
         "rawType": "int64",
         "type": "integer"
        },
        {
         "name": "X19",
         "rawType": "int64",
         "type": "integer"
        },
        {
         "name": "X20",
         "rawType": "int64",
         "type": "integer"
        },
        {
         "name": "X21",
         "rawType": "int64",
         "type": "integer"
        },
        {
         "name": "X22",
         "rawType": "int64",
         "type": "integer"
        },
        {
         "name": "X23",
         "rawType": "int64",
         "type": "integer"
        },
        {
         "name": "X24",
         "rawType": "int64",
         "type": "integer"
        },
        {
         "name": "X25",
         "rawType": "int64",
         "type": "integer"
        },
        {
         "name": "X26",
         "rawType": "int64",
         "type": "integer"
        },
        {
         "name": "X27",
         "rawType": "int64",
         "type": "integer"
        },
        {
         "name": "X28",
         "rawType": "int64",
         "type": "integer"
        },
        {
         "name": "X29",
         "rawType": "int64",
         "type": "integer"
        },
        {
         "name": "X30",
         "rawType": "int64",
         "type": "integer"
        },
        {
         "name": "X31",
         "rawType": "int64",
         "type": "integer"
        },
        {
         "name": "X32",
         "rawType": "int64",
         "type": "integer"
        },
        {
         "name": "X33",
         "rawType": "int64",
         "type": "integer"
        },
        {
         "name": "X34",
         "rawType": "int64",
         "type": "integer"
        },
        {
         "name": "X35",
         "rawType": "int64",
         "type": "integer"
        },
        {
         "name": "X36",
         "rawType": "int64",
         "type": "integer"
        },
        {
         "name": "X37",
         "rawType": "int64",
         "type": "integer"
        },
        {
         "name": "X38",
         "rawType": "int64",
         "type": "integer"
        },
        {
         "name": "X39",
         "rawType": "int64",
         "type": "integer"
        },
        {
         "name": "X40",
         "rawType": "int64",
         "type": "integer"
        },
        {
         "name": "X41",
         "rawType": "int64",
         "type": "integer"
        },
        {
         "name": "X42",
         "rawType": "int64",
         "type": "integer"
        },
        {
         "name": "X43",
         "rawType": "int64",
         "type": "integer"
        },
        {
         "name": "X44",
         "rawType": "int64",
         "type": "integer"
        },
        {
         "name": "X45",
         "rawType": "int64",
         "type": "integer"
        },
        {
         "name": "X46",
         "rawType": "int64",
         "type": "integer"
        },
        {
         "name": "X47",
         "rawType": "int64",
         "type": "integer"
        },
        {
         "name": "X48",
         "rawType": "int64",
         "type": "integer"
        },
        {
         "name": "X49",
         "rawType": "int64",
         "type": "integer"
        },
        {
         "name": "X50",
         "rawType": "int64",
         "type": "integer"
        },
        {
         "name": "X51",
         "rawType": "int64",
         "type": "integer"
        },
        {
         "name": "X52",
         "rawType": "int64",
         "type": "integer"
        },
        {
         "name": "X53",
         "rawType": "int64",
         "type": "integer"
        },
        {
         "name": "X54",
         "rawType": "int64",
         "type": "integer"
        },
        {
         "name": "X55",
         "rawType": "int64",
         "type": "integer"
        },
        {
         "name": "X56",
         "rawType": "int64",
         "type": "integer"
        },
        {
         "name": "X57",
         "rawType": "int64",
         "type": "integer"
        },
        {
         "name": "X58",
         "rawType": "int64",
         "type": "integer"
        },
        {
         "name": "X59",
         "rawType": "int64",
         "type": "integer"
        },
        {
         "name": "X60",
         "rawType": "int64",
         "type": "integer"
        },
        {
         "name": "X61",
         "rawType": "int64",
         "type": "integer"
        },
        {
         "name": "X62",
         "rawType": "int64",
         "type": "integer"
        },
        {
         "name": "X63",
         "rawType": "int64",
         "type": "integer"
        },
        {
         "name": "X64",
         "rawType": "int64",
         "type": "integer"
        },
        {
         "name": "X65",
         "rawType": "int64",
         "type": "integer"
        },
        {
         "name": "X66",
         "rawType": "int64",
         "type": "integer"
        },
        {
         "name": "X67",
         "rawType": "int64",
         "type": "integer"
        },
        {
         "name": "X68",
         "rawType": "int64",
         "type": "integer"
        },
        {
         "name": "X69",
         "rawType": "int64",
         "type": "integer"
        },
        {
         "name": "X70",
         "rawType": "int64",
         "type": "integer"
        },
        {
         "name": "X71",
         "rawType": "int64",
         "type": "integer"
        },
        {
         "name": "X72",
         "rawType": "int64",
         "type": "integer"
        },
        {
         "name": "X73",
         "rawType": "int64",
         "type": "integer"
        },
        {
         "name": "X74",
         "rawType": "int64",
         "type": "integer"
        },
        {
         "name": "X75",
         "rawType": "int64",
         "type": "integer"
        },
        {
         "name": "X76",
         "rawType": "int64",
         "type": "integer"
        },
        {
         "name": "X77",
         "rawType": "int64",
         "type": "integer"
        },
        {
         "name": "X78",
         "rawType": "int64",
         "type": "integer"
        },
        {
         "name": "X79",
         "rawType": "int64",
         "type": "integer"
        },
        {
         "name": "X80",
         "rawType": "int64",
         "type": "integer"
        },
        {
         "name": "X81",
         "rawType": "int64",
         "type": "integer"
        },
        {
         "name": "X82",
         "rawType": "int64",
         "type": "integer"
        },
        {
         "name": "X83",
         "rawType": "int64",
         "type": "integer"
        },
        {
         "name": "X84",
         "rawType": "int64",
         "type": "integer"
        },
        {
         "name": "X85",
         "rawType": "int64",
         "type": "integer"
        },
        {
         "name": "X86",
         "rawType": "int64",
         "type": "integer"
        },
        {
         "name": "X87",
         "rawType": "int64",
         "type": "integer"
        },
        {
         "name": "X88",
         "rawType": "int64",
         "type": "integer"
        },
        {
         "name": "X89",
         "rawType": "int64",
         "type": "integer"
        },
        {
         "name": "X90",
         "rawType": "int64",
         "type": "integer"
        },
        {
         "name": "X91",
         "rawType": "int64",
         "type": "integer"
        },
        {
         "name": "X92",
         "rawType": "int64",
         "type": "integer"
        },
        {
         "name": "X93",
         "rawType": "int64",
         "type": "integer"
        },
        {
         "name": "X94",
         "rawType": "int64",
         "type": "integer"
        },
        {
         "name": "X95",
         "rawType": "int64",
         "type": "integer"
        },
        {
         "name": "X96",
         "rawType": "int64",
         "type": "integer"
        },
        {
         "name": "X97",
         "rawType": "int64",
         "type": "integer"
        },
        {
         "name": "X98",
         "rawType": "int64",
         "type": "integer"
        },
        {
         "name": "X99",
         "rawType": "int64",
         "type": "integer"
        },
        {
         "name": "X100",
         "rawType": "int64",
         "type": "integer"
        },
        {
         "name": "X101",
         "rawType": "int64",
         "type": "integer"
        },
        {
         "name": "X102",
         "rawType": "int64",
         "type": "integer"
        },
        {
         "name": "X103",
         "rawType": "int64",
         "type": "integer"
        },
        {
         "name": "X104",
         "rawType": "int64",
         "type": "integer"
        },
        {
         "name": "X105",
         "rawType": "int64",
         "type": "integer"
        },
        {
         "name": "X106",
         "rawType": "int64",
         "type": "integer"
        },
        {
         "name": "X107",
         "rawType": "int64",
         "type": "integer"
        },
        {
         "name": "X108",
         "rawType": "int64",
         "type": "integer"
        },
        {
         "name": "X109",
         "rawType": "int64",
         "type": "integer"
        },
        {
         "name": "X110",
         "rawType": "int64",
         "type": "integer"
        },
        {
         "name": "X111",
         "rawType": "int64",
         "type": "integer"
        },
        {
         "name": "X112",
         "rawType": "int64",
         "type": "integer"
        },
        {
         "name": "X113",
         "rawType": "int64",
         "type": "integer"
        },
        {
         "name": "X114",
         "rawType": "int64",
         "type": "integer"
        },
        {
         "name": "X115",
         "rawType": "int64",
         "type": "integer"
        },
        {
         "name": "X116",
         "rawType": "int64",
         "type": "integer"
        },
        {
         "name": "X117",
         "rawType": "int64",
         "type": "integer"
        },
        {
         "name": "X118",
         "rawType": "int64",
         "type": "integer"
        },
        {
         "name": "X119",
         "rawType": "int64",
         "type": "integer"
        },
        {
         "name": "X120",
         "rawType": "int64",
         "type": "integer"
        },
        {
         "name": "X121",
         "rawType": "int64",
         "type": "integer"
        },
        {
         "name": "X122",
         "rawType": "int64",
         "type": "integer"
        },
        {
         "name": "X123",
         "rawType": "int64",
         "type": "integer"
        },
        {
         "name": "X124",
         "rawType": "int64",
         "type": "integer"
        },
        {
         "name": "X125",
         "rawType": "int64",
         "type": "integer"
        },
        {
         "name": "X126",
         "rawType": "int64",
         "type": "integer"
        },
        {
         "name": "X127",
         "rawType": "int64",
         "type": "integer"
        },
        {
         "name": "X128",
         "rawType": "int64",
         "type": "integer"
        },
        {
         "name": "X129",
         "rawType": "int64",
         "type": "integer"
        },
        {
         "name": "X130",
         "rawType": "int64",
         "type": "integer"
        },
        {
         "name": "X131",
         "rawType": "int64",
         "type": "integer"
        },
        {
         "name": "X132",
         "rawType": "int64",
         "type": "integer"
        },
        {
         "name": "X133",
         "rawType": "int64",
         "type": "integer"
        },
        {
         "name": "X134",
         "rawType": "int64",
         "type": "integer"
        },
        {
         "name": "X135",
         "rawType": "int64",
         "type": "integer"
        },
        {
         "name": "X136",
         "rawType": "int64",
         "type": "integer"
        },
        {
         "name": "X137",
         "rawType": "int64",
         "type": "integer"
        },
        {
         "name": "X138",
         "rawType": "int64",
         "type": "integer"
        },
        {
         "name": "X139",
         "rawType": "int64",
         "type": "integer"
        },
        {
         "name": "X140",
         "rawType": "int64",
         "type": "integer"
        },
        {
         "name": "X141",
         "rawType": "int64",
         "type": "integer"
        },
        {
         "name": "X142",
         "rawType": "int64",
         "type": "integer"
        },
        {
         "name": "X143",
         "rawType": "int64",
         "type": "integer"
        },
        {
         "name": "X144",
         "rawType": "int64",
         "type": "integer"
        },
        {
         "name": "X145",
         "rawType": "int64",
         "type": "integer"
        },
        {
         "name": "X146",
         "rawType": "int64",
         "type": "integer"
        },
        {
         "name": "X147",
         "rawType": "int64",
         "type": "integer"
        },
        {
         "name": "X148",
         "rawType": "int64",
         "type": "integer"
        },
        {
         "name": "X149",
         "rawType": "int64",
         "type": "integer"
        },
        {
         "name": "X150",
         "rawType": "int64",
         "type": "integer"
        },
        {
         "name": "X151",
         "rawType": "int64",
         "type": "integer"
        },
        {
         "name": "X152",
         "rawType": "int64",
         "type": "integer"
        },
        {
         "name": "X153",
         "rawType": "int64",
         "type": "integer"
        },
        {
         "name": "X154",
         "rawType": "int64",
         "type": "integer"
        },
        {
         "name": "X155",
         "rawType": "int64",
         "type": "integer"
        },
        {
         "name": "X156",
         "rawType": "int64",
         "type": "integer"
        },
        {
         "name": "X157",
         "rawType": "int64",
         "type": "integer"
        },
        {
         "name": "X158",
         "rawType": "int64",
         "type": "integer"
        },
        {
         "name": "X159",
         "rawType": "int64",
         "type": "integer"
        },
        {
         "name": "X160",
         "rawType": "int64",
         "type": "integer"
        },
        {
         "name": "X161",
         "rawType": "int64",
         "type": "integer"
        },
        {
         "name": "X162",
         "rawType": "int64",
         "type": "integer"
        },
        {
         "name": "X163",
         "rawType": "int64",
         "type": "integer"
        },
        {
         "name": "X164",
         "rawType": "int64",
         "type": "integer"
        },
        {
         "name": "X165",
         "rawType": "int64",
         "type": "integer"
        },
        {
         "name": "X166",
         "rawType": "int64",
         "type": "integer"
        },
        {
         "name": "X167",
         "rawType": "int64",
         "type": "integer"
        },
        {
         "name": "X168",
         "rawType": "int64",
         "type": "integer"
        },
        {
         "name": "X169",
         "rawType": "int64",
         "type": "integer"
        },
        {
         "name": "X170",
         "rawType": "int64",
         "type": "integer"
        },
        {
         "name": "X171",
         "rawType": "int64",
         "type": "integer"
        },
        {
         "name": "X172",
         "rawType": "int64",
         "type": "integer"
        },
        {
         "name": "X173",
         "rawType": "int64",
         "type": "integer"
        },
        {
         "name": "X174",
         "rawType": "int64",
         "type": "integer"
        },
        {
         "name": "X175",
         "rawType": "int64",
         "type": "integer"
        },
        {
         "name": "X176",
         "rawType": "int64",
         "type": "integer"
        },
        {
         "name": "X177",
         "rawType": "int64",
         "type": "integer"
        },
        {
         "name": "X178",
         "rawType": "int64",
         "type": "integer"
        }
       ],
       "ref": "5be3bf74-b6de-43d5-bc15-0f3fee77c7ec",
       "rows": [
        [
         "0",
         "42",
         "53",
         "44",
         "31",
         "15",
         "12",
         "6",
         "4",
         "1",
         "-4",
         "-13",
         "-21",
         "-26",
         "-26",
         "-21",
         "-18",
         "-18",
         "-20",
         "-16",
         "-14",
         "-18",
         "-13",
         "-7",
         "-3",
         "-2",
         "1",
         "8",
         "14",
         "20",
         "18",
         "13",
         "1",
         "-2",
         "-5",
         "1",
         "6",
         "13",
         "21",
         "24",
         "33",
         "37",
         "43",
         "43",
         "49",
         "48",
         "45",
         "40",
         "27",
         "11",
         "-1",
         "-4",
         "-17",
         "-29",
         "-39",
         "-45",
         "-49",
         "-50",
         "-52",
         "-54",
         "-49",
         "-41",
         "-30",
         "-18",
         "-19",
         "-14",
         "-10",
         "-5",
         "7",
         "12",
         "10",
         "11",
         "13",
         "6",
         "3",
         "2",
         "6",
         "5",
         "3",
         "-1",
         "-8",
         "-9",
         "-7",
         "-5",
         "-13",
         "-18",
         "-29",
         "-42",
         "-57",
         "-70",
         "-75",
         "-84",
         "-83",
         "-85",
         "-81",
         "-78",
         "-63",
         "-57",
         "-54",
         "-55",
         "-61",
         "-68",
         "-70",
         "-67",
         "-59",
         "-55",
         "-43",
         "-31",
         "-15",
         "6",
         "24",
         "35",
         "43",
         "46",
         "39",
         "25",
         "8",
         "-4",
         "-17",
         "-29",
         "-35",
         "-42",
         "-47",
         "-48",
         "-50",
         "-47",
         "-41",
         "-35",
         "-28",
         "-26",
         "-7",
         "6",
         "23",
         "33",
         "44",
         "46",
         "40",
         "34",
         "27",
         "25",
         "17",
         "14",
         "12",
         "7",
         "6",
         "5",
         "2",
         "7",
         "17",
         "26",
         "28",
         "35",
         "32",
         "27",
         "17",
         "7",
         "-2",
         "-7",
         "-15",
         "-26",
         "-42",
         "-48",
         "-49",
         "-60",
         "-68",
         "-79",
         "-78",
         "-74",
         "-59",
         "-41",
         "-16",
         "2",
         "22",
         "33",
         "45",
         "56",
         "67",
         "69",
         "63"
        ]
       ],
       "shape": {
        "columns": 178,
        "rows": 1
       }
      },
      "text/html": [
       "<div>\n",
       "<style scoped>\n",
       "    .dataframe tbody tr th:only-of-type {\n",
       "        vertical-align: middle;\n",
       "    }\n",
       "\n",
       "    .dataframe tbody tr th {\n",
       "        vertical-align: top;\n",
       "    }\n",
       "\n",
       "    .dataframe thead th {\n",
       "        text-align: right;\n",
       "    }\n",
       "</style>\n",
       "<table border=\"1\" class=\"dataframe\">\n",
       "  <thead>\n",
       "    <tr style=\"text-align: right;\">\n",
       "      <th></th>\n",
       "      <th>X1</th>\n",
       "      <th>X2</th>\n",
       "      <th>X3</th>\n",
       "      <th>X4</th>\n",
       "      <th>X5</th>\n",
       "      <th>X6</th>\n",
       "      <th>X7</th>\n",
       "      <th>X8</th>\n",
       "      <th>X9</th>\n",
       "      <th>X10</th>\n",
       "      <th>...</th>\n",
       "      <th>X169</th>\n",
       "      <th>X170</th>\n",
       "      <th>X171</th>\n",
       "      <th>X172</th>\n",
       "      <th>X173</th>\n",
       "      <th>X174</th>\n",
       "      <th>X175</th>\n",
       "      <th>X176</th>\n",
       "      <th>X177</th>\n",
       "      <th>X178</th>\n",
       "    </tr>\n",
       "  </thead>\n",
       "  <tbody>\n",
       "    <tr>\n",
       "      <th>0</th>\n",
       "      <td>42</td>\n",
       "      <td>53</td>\n",
       "      <td>44</td>\n",
       "      <td>31</td>\n",
       "      <td>15</td>\n",
       "      <td>12</td>\n",
       "      <td>6</td>\n",
       "      <td>4</td>\n",
       "      <td>1</td>\n",
       "      <td>-4</td>\n",
       "      <td>...</td>\n",
       "      <td>-41</td>\n",
       "      <td>-16</td>\n",
       "      <td>2</td>\n",
       "      <td>22</td>\n",
       "      <td>33</td>\n",
       "      <td>45</td>\n",
       "      <td>56</td>\n",
       "      <td>67</td>\n",
       "      <td>69</td>\n",
       "      <td>63</td>\n",
       "    </tr>\n",
       "  </tbody>\n",
       "</table>\n",
       "<p>1 rows × 178 columns</p>\n",
       "</div>"
      ],
      "text/plain": [
       "   X1  X2  X3  X4  X5  X6  X7  X8  X9  X10  ...  X169  X170  X171  X172  X173  \\\n",
       "0  42  53  44  31  15  12   6   4   1   -4  ...   -41   -16     2    22    33   \n",
       "\n",
       "   X174  X175  X176  X177  X178  \n",
       "0    45    56    67    69    63  \n",
       "\n",
       "[1 rows x 178 columns]"
      ]
     },
     "execution_count": 44,
     "metadata": {},
     "output_type": "execute_result"
    }
   ],
   "source": [
    "novos_dados_clientes.head()"
   ]
  },
  {
   "cell_type": "code",
   "execution_count": 45,
   "id": "e00fdca5",
   "metadata": {},
   "outputs": [],
   "source": [
    "# Aplica a padronização nos dados dos novos clientes utilizando o objeto 'padronizacao' (por exemplo, StandardScaler)\n",
    "# Esse transformador deve ter sido treinado anteriormente com os dados de treino (fit), e agora é apenas aplicado (transform).\n",
    "# Isso garante que os novos dados estejam na mesma escala dos dados usados para treinar o modelo.\n",
    "novos_dados_clientes_padronizados = padronizacao.transform(novos_dados_clientes)"
   ]
  },
  {
   "cell_type": "code",
   "execution_count": 46,
   "id": "06a16d18",
   "metadata": {},
   "outputs": [
    {
     "data": {
      "text/plain": [
       "array([[ 0.22018506,  0.25962341,  0.22086597,  0.16257802,  0.08896683,\n",
       "         0.06632871,  0.03166856,  0.02082907,  0.00653459, -0.01841982,\n",
       "        -0.0584486 , -0.08901843, -0.10025992, -0.09315087, -0.06832265,\n",
       "        -0.05357556, -0.05233325, -0.05803148, -0.04061411, -0.03182988,\n",
       "        -0.05097702, -0.03428923, -0.01190145, -0.00086784, -0.00671545,\n",
       "        -0.00600953,  0.02003148,  0.04603206,  0.07505061,  0.07107033,\n",
       "         0.05299982,  0.00460373, -0.00841464, -0.02279361,  0.00143962,\n",
       "         0.0275824 ,  0.06550836,  0.10650558,  0.12288409,  0.15694476,\n",
       "         0.16565883,  0.17961856,  0.17187022,  0.19396364,  0.19472517,\n",
       "         0.1938096 ,  0.18478352,  0.14461395,  0.08834304,  0.04214906,\n",
       "         0.02838477, -0.02716607, -0.08404719, -0.13185775, -0.16856612,\n",
       "        -0.19555211, -0.19762327, -0.18978485, -0.17706085, -0.14306233,\n",
       "        -0.10997793, -0.07251067, -0.03281716, -0.04755177, -0.03452398,\n",
       "        -0.02757186, -0.0150651 ,  0.03141914,  0.05560405,  0.0494743 ,\n",
       "         0.05499523,  0.06142686,  0.04052394,  0.04146978,  0.05215515,\n",
       "         0.07591035,  0.06950656,  0.05571916,  0.03675344,  0.01101067,\n",
       "         0.01205438,  0.02544342,  0.03729239,  0.00605502, -0.01414343,\n",
       "        -0.06283968, -0.12304028, -0.19221901, -0.25397619, -0.28301153,\n",
       "        -0.32765273, -0.33276251, -0.34746127, -0.33627281, -0.3159504 ,\n",
       "        -0.24569665, -0.20709275, -0.18308752, -0.17870077, -0.19562183,\n",
       "        -0.22556595, -0.24249059, -0.23460358, -0.20019263, -0.17697076,\n",
       "        -0.12532755, -0.08010238, -0.0180204 ,  0.06594342,  0.13169909,\n",
       "         0.16746384,  0.19447707,  0.20872921,  0.18328105,  0.12838018,\n",
       "         0.06104119,  0.00929041, -0.05093073, -0.1047628 , -0.13444731,\n",
       "        -0.16130786, -0.16265303, -0.13844209, -0.12812584, -0.1148001 ,\n",
       "        -0.10363592, -0.09642061, -0.08269594, -0.09021716, -0.01727783,\n",
       "         0.03702766,  0.11366317,  0.16223529,  0.2058792 ,  0.21089858,\n",
       "         0.18300793,  0.15970595,  0.1356747 ,  0.13442807,  0.10368841,\n",
       "         0.08802865,  0.07758598,  0.05643739,  0.05269775,  0.04676259,\n",
       "         0.02853524,  0.043165  ,  0.08045986,  0.11611351,  0.12449067,\n",
       "         0.15433112,  0.1439495 ,  0.12612367,  0.08232282,  0.03828237,\n",
       "        -0.00381822, -0.03100437, -0.07024032, -0.11195153, -0.17263504,\n",
       "        -0.18629193, -0.17529936, -0.19866673, -0.21750092, -0.26159524,\n",
       "        -0.27119768, -0.26722453, -0.21058051, -0.13464009, -0.02584454,\n",
       "         0.05951286,  0.1499021 ,  0.2000843 ,  0.24888661,  0.29498001,\n",
       "         0.33882794,  0.34640481,  0.31831896]])"
      ]
     },
     "execution_count": 46,
     "metadata": {},
     "output_type": "execute_result"
    }
   ],
   "source": [
    "novos_dados_clientes_padronizados"
   ]
  },
  {
   "cell_type": "code",
   "execution_count": null,
   "id": "df159ec2",
   "metadata": {},
   "outputs": [
    {
     "data": {
      "text/plain": [
       "array([[1., 0.]])"
      ]
     },
     "execution_count": 47,
     "metadata": {},
     "output_type": "execute_result"
    }
   ],
   "source": [
    "# Utiliza o modelo treinado ('melhor_modelo') para prever as probabilidades do novo cliente.\n",
    "# A função 'predict_proba' retorna uma matriz com duas colunas:\n",
    "# - A primeira coluna [:, 0] contém a probabilidade de pertencer à classe 0 (negativa).\n",
    "# - A segunda coluna [:, 1] contém a probabilidade de pertencer à classe 1 (positiva), geralmente o foco da análise.\n",
    "probabilidades_novo_cliente = melhor_modelo.predict_proba(novos_dados_clientes_padronizados)\n",
    "\n",
    "# Exibe as probabilidades previstas para o(s) novo(s) cliente(s).\n",
    "# Exemplo de saída: [[0.15 0.85]] → 15% para a classe 0, 85% para a classe 1.\n",
    "probabilidades_novo_cliente"
   ]
  },
  {
   "cell_type": "code",
   "execution_count": 48,
   "id": "84f33eae",
   "metadata": {},
   "outputs": [
    {
     "data": {
      "text/plain": [
       "array([0])"
      ]
     },
     "execution_count": 48,
     "metadata": {},
     "output_type": "execute_result"
    }
   ],
   "source": [
    "# Extrai apenas a probabilidade da classe positiva (classe 1)\n",
    "probabilidade_positivo = probabilidades_novo_cliente[:, 1]\n",
    "# Define um limiar (threshold) e converte a probabilidade em uma classificação binária (0 ou 1)\n",
    "classe_predita = (probabilidade_positivo >= 0.5).astype(int)\n",
    "classe_predita"
   ]
  },
  {
   "cell_type": "markdown",
   "id": "b505d4cd",
   "metadata": {},
   "source": [
    "---\n",
    "\n",
    "**Relatório – Previsão de Renovação de Cliente**\n",
    "\n",
    "**Cliente analisado**\n",
    "\n",
    "* Origem: `novo_cliente.csv`\n",
    "* Dados processados e padronizados com base no histórico de treino.\n",
    "\n",
    "**Resultado da Previsão**\n",
    "\n",
    "* **Classe prevista:** `0`\n",
    "* **Significado:** O modelo previu que **este cliente não renovará o contrato**.\n",
    "\n",
    "**Implicações práticas**\n",
    "\n",
    "Com base na previsão, este cliente está classificado como **com alta probabilidade de cancelamento ou não renovação**. Isso pode indicar:\n",
    "\n",
    "* Baixo engajamento com o serviço.\n",
    "* Risco de churn (cancelamento).\n",
    "* Oportunidade para **intervenção proativa**, como:\n",
    "\n",
    "  * Oferta de desconto ou benefício.\n",
    "  * Contato personalizado do time comercial.\n",
    "  * Investigação de insatisfações ou problemas.\n",
    "\n",
    "**Próximo passo sugerido**\n",
    "\n",
    "Recomenda-se que a equipe de relacionamento **analise este cliente individualmente** e, se possível, realize uma ação preventiva para tentar reverter o cancelamento.\n",
    "\n",
    "---"
   ]
  },
  {
   "cell_type": "code",
   "execution_count": 49,
   "id": "05fa1a4a",
   "metadata": {},
   "outputs": [
    {
     "name": "stdout",
     "output_type": "stream",
     "text": [
      "Author: Ricardo de Souza Silva\n",
      "\n"
     ]
    }
   ],
   "source": [
    "%reload_ext watermark\n",
    "%watermark -a \"Ricardo de Souza Silva\""
   ]
  },
  {
   "cell_type": "code",
   "execution_count": 50,
   "id": "d274a4f4",
   "metadata": {},
   "outputs": [
    {
     "name": "stdout",
     "output_type": "stream",
     "text": [
      "Python implementation: CPython\n",
      "Python version       : 3.12.7\n",
      "IPython version      : 8.27.0\n",
      "\n",
      "Compiler    : MSC v.1929 64 bit (AMD64)\n",
      "OS          : Windows\n",
      "Release     : 11\n",
      "Machine     : AMD64\n",
      "Processor   : AMD64 Family 23 Model 96 Stepping 1, AuthenticAMD\n",
      "CPU cores   : 12\n",
      "Architecture: 64bit\n",
      "\n"
     ]
    }
   ],
   "source": [
    "%watermark -v -m"
   ]
  },
  {
   "cell_type": "code",
   "execution_count": 51,
   "id": "fd9f7893",
   "metadata": {},
   "outputs": [
    {
     "name": "stdout",
     "output_type": "stream",
     "text": [
      "seaborn   : 0.13.2\n",
      "sklearn   : 1.5.1\n",
      "sys       : 3.12.7 | packaged by Anaconda, Inc. | (main, Oct  4 2024, 13:17:27) [MSC v.1929 64 bit (AMD64)]\n",
      "xgboost   : 2.1.2\n",
      "numpy     : 1.26.4\n",
      "pandas    : 2.2.2\n",
      "matplotlib: 3.9.2\n",
      "\n"
     ]
    }
   ],
   "source": [
    "%watermark --iversions"
   ]
  }
 ],
 "metadata": {
  "kernelspec": {
   "display_name": "base",
   "language": "python",
   "name": "python3"
  },
  "language_info": {
   "codemirror_mode": {
    "name": "ipython",
    "version": 3
   },
   "file_extension": ".py",
   "mimetype": "text/x-python",
   "name": "python",
   "nbconvert_exporter": "python",
   "pygments_lexer": "ipython3",
   "version": "3.12.7"
  }
 },
 "nbformat": 4,
 "nbformat_minor": 5
}
